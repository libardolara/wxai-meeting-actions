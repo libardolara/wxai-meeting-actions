{
 "cells": [
  {
   "cell_type": "code",
   "execution_count": 1,
   "metadata": {},
   "outputs": [],
   "source": [
    "from os.path import join, dirname\n",
    "from ibm_watson import SpeechToTextV1\n",
    "from ibm_cloud_sdk_core.authenticators import IAMAuthenticator\n",
    "import json\n",
    "import time\n",
    "import jiwer\n"
   ]
  },
  {
   "cell_type": "code",
   "execution_count": 3,
   "metadata": {},
   "outputs": [],
   "source": [
    "# Run only if needed\n",
    "#pip install jiwer\n",
    "#pip install ibm_watson"
   ]
  },
  {
   "cell_type": "markdown",
   "metadata": {},
   "source": [
    "# Train Custom Language Model\n",
    "\n",
    "This notebook walks through the training and testing of a language model for the transcription of the meetings. As part of this PoC, we want to test the Telephony LSM model or Multimedia LSM. Even though the transcription will be drawn from a multimedia video or audio, telephony LSM often is more accurate on multimedia data than Multimedia LSM.\n",
    "\n",
    "## Prerequisites\n",
    "\n",
    "You will need an IBM Cloud account with a Speech to Text service. A text file (corpus) with a real vocabulary and language typical of the use case or client, ideally coming from a real transcription. Additionally, you want to have a separate audio and transcription to test and compare the accuracy of our models. The file `extractAudio.py` can help you extract the audio from the video if needed."
   ]
  },
  {
   "cell_type": "code",
   "execution_count": 2,
   "metadata": {},
   "outputs": [],
   "source": [
    "authenticator = IAMAuthenticator('< Your STT API KEY >')\n",
    "speech_to_text = SpeechToTextV1(\n",
    "    authenticator=authenticator\n",
    ")\n",
    "speech_to_text.set_service_url('< Your STT service URL >')"
   ]
  },
  {
   "cell_type": "code",
   "execution_count": 3,
   "metadata": {},
   "outputs": [],
   "source": [
    "# Used Parameters\n",
    "lm_name_prefix = 'CustomPOC_'\n",
    "corpus_name = 'corpus_demo'\n",
    "corpus_file = 'corpus.txt'"
   ]
  },
  {
   "cell_type": "code",
   "execution_count": 4,
   "metadata": {},
   "outputs": [],
   "source": [
    "def createCustom(lm_name_prefix, speech_to_text, base_model = 'en-US_Multimedia'):\n",
    "    lm_name = lm_name_prefix+base_model\n",
    "    language_model = speech_to_text.create_language_model(\n",
    "        lm_name,\n",
    "        base_model\n",
    "    ).get_result()\n",
    "    print(json.dumps(language_model, indent=2))\n",
    "    return language_model"
   ]
  },
  {
   "cell_type": "code",
   "execution_count": 5,
   "metadata": {},
   "outputs": [],
   "source": [
    "def addCorpus(lm_id, corpus_name, corpus_file, speech_to_text):\n",
    "    with open(corpus_file, 'rb') as corpus_f:\n",
    "        speech_to_text.add_corpus(\n",
    "            lm_id,\n",
    "            corpus_name,\n",
    "            corpus_f\n",
    "        )"
   ]
  },
  {
   "cell_type": "code",
   "execution_count": 6,
   "metadata": {},
   "outputs": [],
   "source": [
    "def trainCustom(lm_id, speech_to_text):\n",
    "    speech_to_text.train_language_model(lm_id)"
   ]
  },
  {
   "cell_type": "code",
   "execution_count": 7,
   "metadata": {},
   "outputs": [],
   "source": [
    "def getCustom(lm_id, speech_to_text):\n",
    "    language_model = speech_to_text.get_language_model(lm_id).get_result()\n",
    "    #print(json.dumps(language_model, indent=2))\n",
    "    return language_model"
   ]
  },
  {
   "cell_type": "code",
   "execution_count": 8,
   "metadata": {},
   "outputs": [],
   "source": [
    "def trainCorpus(lm_id, corpus_name, corpus_file, speech_to_text):\n",
    "    ts = 100\n",
    "    addCorpus(lm_id, corpus_name, corpus_file, speech_to_text)\n",
    "    print(\"Added Corpus\")\n",
    "    # Wait\n",
    "    ready = False\n",
    "    for i in range(ts):\n",
    "        lm = getCustom(lm_id, speech_to_text)\n",
    "        if lm['status'] != \"ready\":\n",
    "            print(\"Wait Corpus\")\n",
    "            time.sleep(60)\n",
    "        else:\n",
    "            print(lm)\n",
    "            ready=True\n",
    "    # Train\n",
    "    if not ready:\n",
    "        \"Not Ready to train!\"\n",
    "        return False\n",
    "    trainCustom(lm_id, speech_to_text)\n",
    "    print(\"Training\")\n",
    "    # Wait\n",
    "    for i in range(ts):\n",
    "        lm = getCustom(lm_id, speech_to_text)\n",
    "        if lm['status'] != \"available\":\n",
    "            print(\"Wait Training\")\n",
    "            time.sleep(60)\n",
    "        else:\n",
    "            return True\n",
    "    return False"
   ]
  },
  {
   "cell_type": "markdown",
   "metadata": {},
   "source": [
    "## Telephony LSM\n",
    "\n",
    "In this section, we will train a language model for the Telephony LSM model. This model is intended for low-frequency audio, however, it produces good results for multimedia recordings as well."
   ]
  },
  {
   "cell_type": "code",
   "execution_count": 9,
   "metadata": {},
   "outputs": [
    {
     "name": "stdout",
     "output_type": "stream",
     "text": [
      "{\n",
      "  \"customization_id\": \"fd697ab8-712e-4eb0-8571-244bf45ce9e3\"\n",
      "}\n"
     ]
    }
   ],
   "source": [
    "base_model_tel = 'en-US_Telephony_LSM'\n",
    "\n",
    "lm_response = createCustom(lm_name_prefix, speech_to_text, base_model_tel)\n",
    "lm_id_tel = lm_response['customization_id']\n"
   ]
  },
  {
   "cell_type": "markdown",
   "metadata": {},
   "source": [
    "The previous id is the language customization id. You will need it for the implementation. Please copy it to a safe place. The following cell code can take a while to run (15-20 mins)."
   ]
  },
  {
   "cell_type": "code",
   "execution_count": 10,
   "metadata": {},
   "outputs": [
    {
     "name": "stdout",
     "output_type": "stream",
     "text": [
      "Added Corpus\n",
      "Wait Corpus\n",
      "Wait Corpus\n",
      "Wait Corpus\n",
      "Wait Corpus\n",
      "Wait Corpus\n",
      "Wait Corpus\n",
      "Wait Corpus\n",
      "Wait Corpus\n",
      "Wait Corpus\n",
      "Wait Corpus\n",
      "{'owner': '33104b95-9ae9-4790-b404-40e8528b19e8', 'base_model_name': 'en-US_Telephony_LSM', 'customization_id': 'fd697ab8-712e-4eb0-8571-244bf45ce9e3', 'dialect': 'en-US', 'versions': ['en-US_Telephony_LSM.v2023-10-31'], 'created': '2024-06-19T20:10:50.038Z', 'name': 'CustomPOC_en-US_Telephony_LSM', 'description': '', 'progress': 0, 'language': 'en-US', 'updated': '2024-06-19T20:21:07.219Z', 'status': 'ready'}\n",
      "{'owner': '33104b95-9ae9-4790-b404-40e8528b19e8', 'base_model_name': 'en-US_Telephony_LSM', 'customization_id': 'fd697ab8-712e-4eb0-8571-244bf45ce9e3', 'dialect': 'en-US', 'versions': ['en-US_Telephony_LSM.v2023-10-31'], 'created': '2024-06-19T20:10:50.038Z', 'name': 'CustomPOC_en-US_Telephony_LSM', 'description': '', 'progress': 0, 'language': 'en-US', 'updated': '2024-06-19T20:21:07.219Z', 'status': 'ready'}\n",
      "{'owner': '33104b95-9ae9-4790-b404-40e8528b19e8', 'base_model_name': 'en-US_Telephony_LSM', 'customization_id': 'fd697ab8-712e-4eb0-8571-244bf45ce9e3', 'dialect': 'en-US', 'versions': ['en-US_Telephony_LSM.v2023-10-31'], 'created': '2024-06-19T20:10:50.038Z', 'name': 'CustomPOC_en-US_Telephony_LSM', 'description': '', 'progress': 0, 'language': 'en-US', 'updated': '2024-06-19T20:21:07.219Z', 'status': 'ready'}\n",
      "{'owner': '33104b95-9ae9-4790-b404-40e8528b19e8', 'base_model_name': 'en-US_Telephony_LSM', 'customization_id': 'fd697ab8-712e-4eb0-8571-244bf45ce9e3', 'dialect': 'en-US', 'versions': ['en-US_Telephony_LSM.v2023-10-31'], 'created': '2024-06-19T20:10:50.038Z', 'name': 'CustomPOC_en-US_Telephony_LSM', 'description': '', 'progress': 0, 'language': 'en-US', 'updated': '2024-06-19T20:21:07.219Z', 'status': 'ready'}\n",
      "{'owner': '33104b95-9ae9-4790-b404-40e8528b19e8', 'base_model_name': 'en-US_Telephony_LSM', 'customization_id': 'fd697ab8-712e-4eb0-8571-244bf45ce9e3', 'dialect': 'en-US', 'versions': ['en-US_Telephony_LSM.v2023-10-31'], 'created': '2024-06-19T20:10:50.038Z', 'name': 'CustomPOC_en-US_Telephony_LSM', 'description': '', 'progress': 0, 'language': 'en-US', 'updated': '2024-06-19T20:21:07.219Z', 'status': 'ready'}\n",
      "{'owner': '33104b95-9ae9-4790-b404-40e8528b19e8', 'base_model_name': 'en-US_Telephony_LSM', 'customization_id': 'fd697ab8-712e-4eb0-8571-244bf45ce9e3', 'dialect': 'en-US', 'versions': ['en-US_Telephony_LSM.v2023-10-31'], 'created': '2024-06-19T20:10:50.038Z', 'name': 'CustomPOC_en-US_Telephony_LSM', 'description': '', 'progress': 0, 'language': 'en-US', 'updated': '2024-06-19T20:21:07.219Z', 'status': 'ready'}\n",
      "{'owner': '33104b95-9ae9-4790-b404-40e8528b19e8', 'base_model_name': 'en-US_Telephony_LSM', 'customization_id': 'fd697ab8-712e-4eb0-8571-244bf45ce9e3', 'dialect': 'en-US', 'versions': ['en-US_Telephony_LSM.v2023-10-31'], 'created': '2024-06-19T20:10:50.038Z', 'name': 'CustomPOC_en-US_Telephony_LSM', 'description': '', 'progress': 0, 'language': 'en-US', 'updated': '2024-06-19T20:21:07.219Z', 'status': 'ready'}\n",
      "{'owner': '33104b95-9ae9-4790-b404-40e8528b19e8', 'base_model_name': 'en-US_Telephony_LSM', 'customization_id': 'fd697ab8-712e-4eb0-8571-244bf45ce9e3', 'dialect': 'en-US', 'versions': ['en-US_Telephony_LSM.v2023-10-31'], 'created': '2024-06-19T20:10:50.038Z', 'name': 'CustomPOC_en-US_Telephony_LSM', 'description': '', 'progress': 0, 'language': 'en-US', 'updated': '2024-06-19T20:21:07.219Z', 'status': 'ready'}\n",
      "{'owner': '33104b95-9ae9-4790-b404-40e8528b19e8', 'base_model_name': 'en-US_Telephony_LSM', 'customization_id': 'fd697ab8-712e-4eb0-8571-244bf45ce9e3', 'dialect': 'en-US', 'versions': ['en-US_Telephony_LSM.v2023-10-31'], 'created': '2024-06-19T20:10:50.038Z', 'name': 'CustomPOC_en-US_Telephony_LSM', 'description': '', 'progress': 0, 'language': 'en-US', 'updated': '2024-06-19T20:21:07.219Z', 'status': 'ready'}\n",
      "{'owner': '33104b95-9ae9-4790-b404-40e8528b19e8', 'base_model_name': 'en-US_Telephony_LSM', 'customization_id': 'fd697ab8-712e-4eb0-8571-244bf45ce9e3', 'dialect': 'en-US', 'versions': ['en-US_Telephony_LSM.v2023-10-31'], 'created': '2024-06-19T20:10:50.038Z', 'name': 'CustomPOC_en-US_Telephony_LSM', 'description': '', 'progress': 0, 'language': 'en-US', 'updated': '2024-06-19T20:21:07.219Z', 'status': 'ready'}\n",
      "{'owner': '33104b95-9ae9-4790-b404-40e8528b19e8', 'base_model_name': 'en-US_Telephony_LSM', 'customization_id': 'fd697ab8-712e-4eb0-8571-244bf45ce9e3', 'dialect': 'en-US', 'versions': ['en-US_Telephony_LSM.v2023-10-31'], 'created': '2024-06-19T20:10:50.038Z', 'name': 'CustomPOC_en-US_Telephony_LSM', 'description': '', 'progress': 0, 'language': 'en-US', 'updated': '2024-06-19T20:21:07.219Z', 'status': 'ready'}\n",
      "{'owner': '33104b95-9ae9-4790-b404-40e8528b19e8', 'base_model_name': 'en-US_Telephony_LSM', 'customization_id': 'fd697ab8-712e-4eb0-8571-244bf45ce9e3', 'dialect': 'en-US', 'versions': ['en-US_Telephony_LSM.v2023-10-31'], 'created': '2024-06-19T20:10:50.038Z', 'name': 'CustomPOC_en-US_Telephony_LSM', 'description': '', 'progress': 0, 'language': 'en-US', 'updated': '2024-06-19T20:21:07.219Z', 'status': 'ready'}\n",
      "{'owner': '33104b95-9ae9-4790-b404-40e8528b19e8', 'base_model_name': 'en-US_Telephony_LSM', 'customization_id': 'fd697ab8-712e-4eb0-8571-244bf45ce9e3', 'dialect': 'en-US', 'versions': ['en-US_Telephony_LSM.v2023-10-31'], 'created': '2024-06-19T20:10:50.038Z', 'name': 'CustomPOC_en-US_Telephony_LSM', 'description': '', 'progress': 0, 'language': 'en-US', 'updated': '2024-06-19T20:21:07.219Z', 'status': 'ready'}\n",
      "{'owner': '33104b95-9ae9-4790-b404-40e8528b19e8', 'base_model_name': 'en-US_Telephony_LSM', 'customization_id': 'fd697ab8-712e-4eb0-8571-244bf45ce9e3', 'dialect': 'en-US', 'versions': ['en-US_Telephony_LSM.v2023-10-31'], 'created': '2024-06-19T20:10:50.038Z', 'name': 'CustomPOC_en-US_Telephony_LSM', 'description': '', 'progress': 0, 'language': 'en-US', 'updated': '2024-06-19T20:21:07.219Z', 'status': 'ready'}\n",
      "{'owner': '33104b95-9ae9-4790-b404-40e8528b19e8', 'base_model_name': 'en-US_Telephony_LSM', 'customization_id': 'fd697ab8-712e-4eb0-8571-244bf45ce9e3', 'dialect': 'en-US', 'versions': ['en-US_Telephony_LSM.v2023-10-31'], 'created': '2024-06-19T20:10:50.038Z', 'name': 'CustomPOC_en-US_Telephony_LSM', 'description': '', 'progress': 0, 'language': 'en-US', 'updated': '2024-06-19T20:21:07.219Z', 'status': 'ready'}\n",
      "{'owner': '33104b95-9ae9-4790-b404-40e8528b19e8', 'base_model_name': 'en-US_Telephony_LSM', 'customization_id': 'fd697ab8-712e-4eb0-8571-244bf45ce9e3', 'dialect': 'en-US', 'versions': ['en-US_Telephony_LSM.v2023-10-31'], 'created': '2024-06-19T20:10:50.038Z', 'name': 'CustomPOC_en-US_Telephony_LSM', 'description': '', 'progress': 0, 'language': 'en-US', 'updated': '2024-06-19T20:21:07.219Z', 'status': 'ready'}\n",
      "{'owner': '33104b95-9ae9-4790-b404-40e8528b19e8', 'base_model_name': 'en-US_Telephony_LSM', 'customization_id': 'fd697ab8-712e-4eb0-8571-244bf45ce9e3', 'dialect': 'en-US', 'versions': ['en-US_Telephony_LSM.v2023-10-31'], 'created': '2024-06-19T20:10:50.038Z', 'name': 'CustomPOC_en-US_Telephony_LSM', 'description': '', 'progress': 0, 'language': 'en-US', 'updated': '2024-06-19T20:21:07.219Z', 'status': 'ready'}\n",
      "{'owner': '33104b95-9ae9-4790-b404-40e8528b19e8', 'base_model_name': 'en-US_Telephony_LSM', 'customization_id': 'fd697ab8-712e-4eb0-8571-244bf45ce9e3', 'dialect': 'en-US', 'versions': ['en-US_Telephony_LSM.v2023-10-31'], 'created': '2024-06-19T20:10:50.038Z', 'name': 'CustomPOC_en-US_Telephony_LSM', 'description': '', 'progress': 0, 'language': 'en-US', 'updated': '2024-06-19T20:21:07.219Z', 'status': 'ready'}\n",
      "{'owner': '33104b95-9ae9-4790-b404-40e8528b19e8', 'base_model_name': 'en-US_Telephony_LSM', 'customization_id': 'fd697ab8-712e-4eb0-8571-244bf45ce9e3', 'dialect': 'en-US', 'versions': ['en-US_Telephony_LSM.v2023-10-31'], 'created': '2024-06-19T20:10:50.038Z', 'name': 'CustomPOC_en-US_Telephony_LSM', 'description': '', 'progress': 0, 'language': 'en-US', 'updated': '2024-06-19T20:21:07.219Z', 'status': 'ready'}\n",
      "{'owner': '33104b95-9ae9-4790-b404-40e8528b19e8', 'base_model_name': 'en-US_Telephony_LSM', 'customization_id': 'fd697ab8-712e-4eb0-8571-244bf45ce9e3', 'dialect': 'en-US', 'versions': ['en-US_Telephony_LSM.v2023-10-31'], 'created': '2024-06-19T20:10:50.038Z', 'name': 'CustomPOC_en-US_Telephony_LSM', 'description': '', 'progress': 0, 'language': 'en-US', 'updated': '2024-06-19T20:21:07.219Z', 'status': 'ready'}\n",
      "{'owner': '33104b95-9ae9-4790-b404-40e8528b19e8', 'base_model_name': 'en-US_Telephony_LSM', 'customization_id': 'fd697ab8-712e-4eb0-8571-244bf45ce9e3', 'dialect': 'en-US', 'versions': ['en-US_Telephony_LSM.v2023-10-31'], 'created': '2024-06-19T20:10:50.038Z', 'name': 'CustomPOC_en-US_Telephony_LSM', 'description': '', 'progress': 0, 'language': 'en-US', 'updated': '2024-06-19T20:21:07.219Z', 'status': 'ready'}\n",
      "{'owner': '33104b95-9ae9-4790-b404-40e8528b19e8', 'base_model_name': 'en-US_Telephony_LSM', 'customization_id': 'fd697ab8-712e-4eb0-8571-244bf45ce9e3', 'dialect': 'en-US', 'versions': ['en-US_Telephony_LSM.v2023-10-31'], 'created': '2024-06-19T20:10:50.038Z', 'name': 'CustomPOC_en-US_Telephony_LSM', 'description': '', 'progress': 0, 'language': 'en-US', 'updated': '2024-06-19T20:21:07.219Z', 'status': 'ready'}\n",
      "{'owner': '33104b95-9ae9-4790-b404-40e8528b19e8', 'base_model_name': 'en-US_Telephony_LSM', 'customization_id': 'fd697ab8-712e-4eb0-8571-244bf45ce9e3', 'dialect': 'en-US', 'versions': ['en-US_Telephony_LSM.v2023-10-31'], 'created': '2024-06-19T20:10:50.038Z', 'name': 'CustomPOC_en-US_Telephony_LSM', 'description': '', 'progress': 0, 'language': 'en-US', 'updated': '2024-06-19T20:21:07.219Z', 'status': 'ready'}\n",
      "{'owner': '33104b95-9ae9-4790-b404-40e8528b19e8', 'base_model_name': 'en-US_Telephony_LSM', 'customization_id': 'fd697ab8-712e-4eb0-8571-244bf45ce9e3', 'dialect': 'en-US', 'versions': ['en-US_Telephony_LSM.v2023-10-31'], 'created': '2024-06-19T20:10:50.038Z', 'name': 'CustomPOC_en-US_Telephony_LSM', 'description': '', 'progress': 0, 'language': 'en-US', 'updated': '2024-06-19T20:21:07.219Z', 'status': 'ready'}\n",
      "{'owner': '33104b95-9ae9-4790-b404-40e8528b19e8', 'base_model_name': 'en-US_Telephony_LSM', 'customization_id': 'fd697ab8-712e-4eb0-8571-244bf45ce9e3', 'dialect': 'en-US', 'versions': ['en-US_Telephony_LSM.v2023-10-31'], 'created': '2024-06-19T20:10:50.038Z', 'name': 'CustomPOC_en-US_Telephony_LSM', 'description': '', 'progress': 0, 'language': 'en-US', 'updated': '2024-06-19T20:21:07.219Z', 'status': 'ready'}\n",
      "{'owner': '33104b95-9ae9-4790-b404-40e8528b19e8', 'base_model_name': 'en-US_Telephony_LSM', 'customization_id': 'fd697ab8-712e-4eb0-8571-244bf45ce9e3', 'dialect': 'en-US', 'versions': ['en-US_Telephony_LSM.v2023-10-31'], 'created': '2024-06-19T20:10:50.038Z', 'name': 'CustomPOC_en-US_Telephony_LSM', 'description': '', 'progress': 0, 'language': 'en-US', 'updated': '2024-06-19T20:21:07.219Z', 'status': 'ready'}\n",
      "{'owner': '33104b95-9ae9-4790-b404-40e8528b19e8', 'base_model_name': 'en-US_Telephony_LSM', 'customization_id': 'fd697ab8-712e-4eb0-8571-244bf45ce9e3', 'dialect': 'en-US', 'versions': ['en-US_Telephony_LSM.v2023-10-31'], 'created': '2024-06-19T20:10:50.038Z', 'name': 'CustomPOC_en-US_Telephony_LSM', 'description': '', 'progress': 0, 'language': 'en-US', 'updated': '2024-06-19T20:21:07.219Z', 'status': 'ready'}\n",
      "{'owner': '33104b95-9ae9-4790-b404-40e8528b19e8', 'base_model_name': 'en-US_Telephony_LSM', 'customization_id': 'fd697ab8-712e-4eb0-8571-244bf45ce9e3', 'dialect': 'en-US', 'versions': ['en-US_Telephony_LSM.v2023-10-31'], 'created': '2024-06-19T20:10:50.038Z', 'name': 'CustomPOC_en-US_Telephony_LSM', 'description': '', 'progress': 0, 'language': 'en-US', 'updated': '2024-06-19T20:21:07.219Z', 'status': 'ready'}\n",
      "{'owner': '33104b95-9ae9-4790-b404-40e8528b19e8', 'base_model_name': 'en-US_Telephony_LSM', 'customization_id': 'fd697ab8-712e-4eb0-8571-244bf45ce9e3', 'dialect': 'en-US', 'versions': ['en-US_Telephony_LSM.v2023-10-31'], 'created': '2024-06-19T20:10:50.038Z', 'name': 'CustomPOC_en-US_Telephony_LSM', 'description': '', 'progress': 0, 'language': 'en-US', 'updated': '2024-06-19T20:21:07.219Z', 'status': 'ready'}\n",
      "{'owner': '33104b95-9ae9-4790-b404-40e8528b19e8', 'base_model_name': 'en-US_Telephony_LSM', 'customization_id': 'fd697ab8-712e-4eb0-8571-244bf45ce9e3', 'dialect': 'en-US', 'versions': ['en-US_Telephony_LSM.v2023-10-31'], 'created': '2024-06-19T20:10:50.038Z', 'name': 'CustomPOC_en-US_Telephony_LSM', 'description': '', 'progress': 0, 'language': 'en-US', 'updated': '2024-06-19T20:21:07.219Z', 'status': 'ready'}\n",
      "{'owner': '33104b95-9ae9-4790-b404-40e8528b19e8', 'base_model_name': 'en-US_Telephony_LSM', 'customization_id': 'fd697ab8-712e-4eb0-8571-244bf45ce9e3', 'dialect': 'en-US', 'versions': ['en-US_Telephony_LSM.v2023-10-31'], 'created': '2024-06-19T20:10:50.038Z', 'name': 'CustomPOC_en-US_Telephony_LSM', 'description': '', 'progress': 0, 'language': 'en-US', 'updated': '2024-06-19T20:21:07.219Z', 'status': 'ready'}\n",
      "{'owner': '33104b95-9ae9-4790-b404-40e8528b19e8', 'base_model_name': 'en-US_Telephony_LSM', 'customization_id': 'fd697ab8-712e-4eb0-8571-244bf45ce9e3', 'dialect': 'en-US', 'versions': ['en-US_Telephony_LSM.v2023-10-31'], 'created': '2024-06-19T20:10:50.038Z', 'name': 'CustomPOC_en-US_Telephony_LSM', 'description': '', 'progress': 0, 'language': 'en-US', 'updated': '2024-06-19T20:21:07.219Z', 'status': 'ready'}\n",
      "{'owner': '33104b95-9ae9-4790-b404-40e8528b19e8', 'base_model_name': 'en-US_Telephony_LSM', 'customization_id': 'fd697ab8-712e-4eb0-8571-244bf45ce9e3', 'dialect': 'en-US', 'versions': ['en-US_Telephony_LSM.v2023-10-31'], 'created': '2024-06-19T20:10:50.038Z', 'name': 'CustomPOC_en-US_Telephony_LSM', 'description': '', 'progress': 0, 'language': 'en-US', 'updated': '2024-06-19T20:21:07.219Z', 'status': 'ready'}\n",
      "{'owner': '33104b95-9ae9-4790-b404-40e8528b19e8', 'base_model_name': 'en-US_Telephony_LSM', 'customization_id': 'fd697ab8-712e-4eb0-8571-244bf45ce9e3', 'dialect': 'en-US', 'versions': ['en-US_Telephony_LSM.v2023-10-31'], 'created': '2024-06-19T20:10:50.038Z', 'name': 'CustomPOC_en-US_Telephony_LSM', 'description': '', 'progress': 0, 'language': 'en-US', 'updated': '2024-06-19T20:21:07.219Z', 'status': 'ready'}\n",
      "{'owner': '33104b95-9ae9-4790-b404-40e8528b19e8', 'base_model_name': 'en-US_Telephony_LSM', 'customization_id': 'fd697ab8-712e-4eb0-8571-244bf45ce9e3', 'dialect': 'en-US', 'versions': ['en-US_Telephony_LSM.v2023-10-31'], 'created': '2024-06-19T20:10:50.038Z', 'name': 'CustomPOC_en-US_Telephony_LSM', 'description': '', 'progress': 0, 'language': 'en-US', 'updated': '2024-06-19T20:21:07.219Z', 'status': 'ready'}\n",
      "{'owner': '33104b95-9ae9-4790-b404-40e8528b19e8', 'base_model_name': 'en-US_Telephony_LSM', 'customization_id': 'fd697ab8-712e-4eb0-8571-244bf45ce9e3', 'dialect': 'en-US', 'versions': ['en-US_Telephony_LSM.v2023-10-31'], 'created': '2024-06-19T20:10:50.038Z', 'name': 'CustomPOC_en-US_Telephony_LSM', 'description': '', 'progress': 0, 'language': 'en-US', 'updated': '2024-06-19T20:21:07.219Z', 'status': 'ready'}\n",
      "{'owner': '33104b95-9ae9-4790-b404-40e8528b19e8', 'base_model_name': 'en-US_Telephony_LSM', 'customization_id': 'fd697ab8-712e-4eb0-8571-244bf45ce9e3', 'dialect': 'en-US', 'versions': ['en-US_Telephony_LSM.v2023-10-31'], 'created': '2024-06-19T20:10:50.038Z', 'name': 'CustomPOC_en-US_Telephony_LSM', 'description': '', 'progress': 0, 'language': 'en-US', 'updated': '2024-06-19T20:21:07.219Z', 'status': 'ready'}\n",
      "{'owner': '33104b95-9ae9-4790-b404-40e8528b19e8', 'base_model_name': 'en-US_Telephony_LSM', 'customization_id': 'fd697ab8-712e-4eb0-8571-244bf45ce9e3', 'dialect': 'en-US', 'versions': ['en-US_Telephony_LSM.v2023-10-31'], 'created': '2024-06-19T20:10:50.038Z', 'name': 'CustomPOC_en-US_Telephony_LSM', 'description': '', 'progress': 0, 'language': 'en-US', 'updated': '2024-06-19T20:21:07.219Z', 'status': 'ready'}\n",
      "{'owner': '33104b95-9ae9-4790-b404-40e8528b19e8', 'base_model_name': 'en-US_Telephony_LSM', 'customization_id': 'fd697ab8-712e-4eb0-8571-244bf45ce9e3', 'dialect': 'en-US', 'versions': ['en-US_Telephony_LSM.v2023-10-31'], 'created': '2024-06-19T20:10:50.038Z', 'name': 'CustomPOC_en-US_Telephony_LSM', 'description': '', 'progress': 0, 'language': 'en-US', 'updated': '2024-06-19T20:21:07.219Z', 'status': 'ready'}\n",
      "{'owner': '33104b95-9ae9-4790-b404-40e8528b19e8', 'base_model_name': 'en-US_Telephony_LSM', 'customization_id': 'fd697ab8-712e-4eb0-8571-244bf45ce9e3', 'dialect': 'en-US', 'versions': ['en-US_Telephony_LSM.v2023-10-31'], 'created': '2024-06-19T20:10:50.038Z', 'name': 'CustomPOC_en-US_Telephony_LSM', 'description': '', 'progress': 0, 'language': 'en-US', 'updated': '2024-06-19T20:21:07.219Z', 'status': 'ready'}\n",
      "{'owner': '33104b95-9ae9-4790-b404-40e8528b19e8', 'base_model_name': 'en-US_Telephony_LSM', 'customization_id': 'fd697ab8-712e-4eb0-8571-244bf45ce9e3', 'dialect': 'en-US', 'versions': ['en-US_Telephony_LSM.v2023-10-31'], 'created': '2024-06-19T20:10:50.038Z', 'name': 'CustomPOC_en-US_Telephony_LSM', 'description': '', 'progress': 0, 'language': 'en-US', 'updated': '2024-06-19T20:21:07.219Z', 'status': 'ready'}\n",
      "{'owner': '33104b95-9ae9-4790-b404-40e8528b19e8', 'base_model_name': 'en-US_Telephony_LSM', 'customization_id': 'fd697ab8-712e-4eb0-8571-244bf45ce9e3', 'dialect': 'en-US', 'versions': ['en-US_Telephony_LSM.v2023-10-31'], 'created': '2024-06-19T20:10:50.038Z', 'name': 'CustomPOC_en-US_Telephony_LSM', 'description': '', 'progress': 0, 'language': 'en-US', 'updated': '2024-06-19T20:21:07.219Z', 'status': 'ready'}\n",
      "{'owner': '33104b95-9ae9-4790-b404-40e8528b19e8', 'base_model_name': 'en-US_Telephony_LSM', 'customization_id': 'fd697ab8-712e-4eb0-8571-244bf45ce9e3', 'dialect': 'en-US', 'versions': ['en-US_Telephony_LSM.v2023-10-31'], 'created': '2024-06-19T20:10:50.038Z', 'name': 'CustomPOC_en-US_Telephony_LSM', 'description': '', 'progress': 0, 'language': 'en-US', 'updated': '2024-06-19T20:21:07.219Z', 'status': 'ready'}\n",
      "{'owner': '33104b95-9ae9-4790-b404-40e8528b19e8', 'base_model_name': 'en-US_Telephony_LSM', 'customization_id': 'fd697ab8-712e-4eb0-8571-244bf45ce9e3', 'dialect': 'en-US', 'versions': ['en-US_Telephony_LSM.v2023-10-31'], 'created': '2024-06-19T20:10:50.038Z', 'name': 'CustomPOC_en-US_Telephony_LSM', 'description': '', 'progress': 0, 'language': 'en-US', 'updated': '2024-06-19T20:21:07.219Z', 'status': 'ready'}\n",
      "{'owner': '33104b95-9ae9-4790-b404-40e8528b19e8', 'base_model_name': 'en-US_Telephony_LSM', 'customization_id': 'fd697ab8-712e-4eb0-8571-244bf45ce9e3', 'dialect': 'en-US', 'versions': ['en-US_Telephony_LSM.v2023-10-31'], 'created': '2024-06-19T20:10:50.038Z', 'name': 'CustomPOC_en-US_Telephony_LSM', 'description': '', 'progress': 0, 'language': 'en-US', 'updated': '2024-06-19T20:21:07.219Z', 'status': 'ready'}\n",
      "{'owner': '33104b95-9ae9-4790-b404-40e8528b19e8', 'base_model_name': 'en-US_Telephony_LSM', 'customization_id': 'fd697ab8-712e-4eb0-8571-244bf45ce9e3', 'dialect': 'en-US', 'versions': ['en-US_Telephony_LSM.v2023-10-31'], 'created': '2024-06-19T20:10:50.038Z', 'name': 'CustomPOC_en-US_Telephony_LSM', 'description': '', 'progress': 0, 'language': 'en-US', 'updated': '2024-06-19T20:21:07.219Z', 'status': 'ready'}\n",
      "{'owner': '33104b95-9ae9-4790-b404-40e8528b19e8', 'base_model_name': 'en-US_Telephony_LSM', 'customization_id': 'fd697ab8-712e-4eb0-8571-244bf45ce9e3', 'dialect': 'en-US', 'versions': ['en-US_Telephony_LSM.v2023-10-31'], 'created': '2024-06-19T20:10:50.038Z', 'name': 'CustomPOC_en-US_Telephony_LSM', 'description': '', 'progress': 0, 'language': 'en-US', 'updated': '2024-06-19T20:21:07.219Z', 'status': 'ready'}\n",
      "{'owner': '33104b95-9ae9-4790-b404-40e8528b19e8', 'base_model_name': 'en-US_Telephony_LSM', 'customization_id': 'fd697ab8-712e-4eb0-8571-244bf45ce9e3', 'dialect': 'en-US', 'versions': ['en-US_Telephony_LSM.v2023-10-31'], 'created': '2024-06-19T20:10:50.038Z', 'name': 'CustomPOC_en-US_Telephony_LSM', 'description': '', 'progress': 0, 'language': 'en-US', 'updated': '2024-06-19T20:21:07.219Z', 'status': 'ready'}\n",
      "{'owner': '33104b95-9ae9-4790-b404-40e8528b19e8', 'base_model_name': 'en-US_Telephony_LSM', 'customization_id': 'fd697ab8-712e-4eb0-8571-244bf45ce9e3', 'dialect': 'en-US', 'versions': ['en-US_Telephony_LSM.v2023-10-31'], 'created': '2024-06-19T20:10:50.038Z', 'name': 'CustomPOC_en-US_Telephony_LSM', 'description': '', 'progress': 0, 'language': 'en-US', 'updated': '2024-06-19T20:21:07.219Z', 'status': 'ready'}\n",
      "{'owner': '33104b95-9ae9-4790-b404-40e8528b19e8', 'base_model_name': 'en-US_Telephony_LSM', 'customization_id': 'fd697ab8-712e-4eb0-8571-244bf45ce9e3', 'dialect': 'en-US', 'versions': ['en-US_Telephony_LSM.v2023-10-31'], 'created': '2024-06-19T20:10:50.038Z', 'name': 'CustomPOC_en-US_Telephony_LSM', 'description': '', 'progress': 0, 'language': 'en-US', 'updated': '2024-06-19T20:21:07.219Z', 'status': 'ready'}\n",
      "{'owner': '33104b95-9ae9-4790-b404-40e8528b19e8', 'base_model_name': 'en-US_Telephony_LSM', 'customization_id': 'fd697ab8-712e-4eb0-8571-244bf45ce9e3', 'dialect': 'en-US', 'versions': ['en-US_Telephony_LSM.v2023-10-31'], 'created': '2024-06-19T20:10:50.038Z', 'name': 'CustomPOC_en-US_Telephony_LSM', 'description': '', 'progress': 0, 'language': 'en-US', 'updated': '2024-06-19T20:21:07.219Z', 'status': 'ready'}\n",
      "{'owner': '33104b95-9ae9-4790-b404-40e8528b19e8', 'base_model_name': 'en-US_Telephony_LSM', 'customization_id': 'fd697ab8-712e-4eb0-8571-244bf45ce9e3', 'dialect': 'en-US', 'versions': ['en-US_Telephony_LSM.v2023-10-31'], 'created': '2024-06-19T20:10:50.038Z', 'name': 'CustomPOC_en-US_Telephony_LSM', 'description': '', 'progress': 0, 'language': 'en-US', 'updated': '2024-06-19T20:21:07.219Z', 'status': 'ready'}\n",
      "{'owner': '33104b95-9ae9-4790-b404-40e8528b19e8', 'base_model_name': 'en-US_Telephony_LSM', 'customization_id': 'fd697ab8-712e-4eb0-8571-244bf45ce9e3', 'dialect': 'en-US', 'versions': ['en-US_Telephony_LSM.v2023-10-31'], 'created': '2024-06-19T20:10:50.038Z', 'name': 'CustomPOC_en-US_Telephony_LSM', 'description': '', 'progress': 0, 'language': 'en-US', 'updated': '2024-06-19T20:21:07.219Z', 'status': 'ready'}\n",
      "{'owner': '33104b95-9ae9-4790-b404-40e8528b19e8', 'base_model_name': 'en-US_Telephony_LSM', 'customization_id': 'fd697ab8-712e-4eb0-8571-244bf45ce9e3', 'dialect': 'en-US', 'versions': ['en-US_Telephony_LSM.v2023-10-31'], 'created': '2024-06-19T20:10:50.038Z', 'name': 'CustomPOC_en-US_Telephony_LSM', 'description': '', 'progress': 0, 'language': 'en-US', 'updated': '2024-06-19T20:21:07.219Z', 'status': 'ready'}\n",
      "{'owner': '33104b95-9ae9-4790-b404-40e8528b19e8', 'base_model_name': 'en-US_Telephony_LSM', 'customization_id': 'fd697ab8-712e-4eb0-8571-244bf45ce9e3', 'dialect': 'en-US', 'versions': ['en-US_Telephony_LSM.v2023-10-31'], 'created': '2024-06-19T20:10:50.038Z', 'name': 'CustomPOC_en-US_Telephony_LSM', 'description': '', 'progress': 0, 'language': 'en-US', 'updated': '2024-06-19T20:21:07.219Z', 'status': 'ready'}\n",
      "{'owner': '33104b95-9ae9-4790-b404-40e8528b19e8', 'base_model_name': 'en-US_Telephony_LSM', 'customization_id': 'fd697ab8-712e-4eb0-8571-244bf45ce9e3', 'dialect': 'en-US', 'versions': ['en-US_Telephony_LSM.v2023-10-31'], 'created': '2024-06-19T20:10:50.038Z', 'name': 'CustomPOC_en-US_Telephony_LSM', 'description': '', 'progress': 0, 'language': 'en-US', 'updated': '2024-06-19T20:21:07.219Z', 'status': 'ready'}\n",
      "{'owner': '33104b95-9ae9-4790-b404-40e8528b19e8', 'base_model_name': 'en-US_Telephony_LSM', 'customization_id': 'fd697ab8-712e-4eb0-8571-244bf45ce9e3', 'dialect': 'en-US', 'versions': ['en-US_Telephony_LSM.v2023-10-31'], 'created': '2024-06-19T20:10:50.038Z', 'name': 'CustomPOC_en-US_Telephony_LSM', 'description': '', 'progress': 0, 'language': 'en-US', 'updated': '2024-06-19T20:21:07.219Z', 'status': 'ready'}\n",
      "{'owner': '33104b95-9ae9-4790-b404-40e8528b19e8', 'base_model_name': 'en-US_Telephony_LSM', 'customization_id': 'fd697ab8-712e-4eb0-8571-244bf45ce9e3', 'dialect': 'en-US', 'versions': ['en-US_Telephony_LSM.v2023-10-31'], 'created': '2024-06-19T20:10:50.038Z', 'name': 'CustomPOC_en-US_Telephony_LSM', 'description': '', 'progress': 0, 'language': 'en-US', 'updated': '2024-06-19T20:21:07.219Z', 'status': 'ready'}\n",
      "{'owner': '33104b95-9ae9-4790-b404-40e8528b19e8', 'base_model_name': 'en-US_Telephony_LSM', 'customization_id': 'fd697ab8-712e-4eb0-8571-244bf45ce9e3', 'dialect': 'en-US', 'versions': ['en-US_Telephony_LSM.v2023-10-31'], 'created': '2024-06-19T20:10:50.038Z', 'name': 'CustomPOC_en-US_Telephony_LSM', 'description': '', 'progress': 0, 'language': 'en-US', 'updated': '2024-06-19T20:21:07.219Z', 'status': 'ready'}\n",
      "{'owner': '33104b95-9ae9-4790-b404-40e8528b19e8', 'base_model_name': 'en-US_Telephony_LSM', 'customization_id': 'fd697ab8-712e-4eb0-8571-244bf45ce9e3', 'dialect': 'en-US', 'versions': ['en-US_Telephony_LSM.v2023-10-31'], 'created': '2024-06-19T20:10:50.038Z', 'name': 'CustomPOC_en-US_Telephony_LSM', 'description': '', 'progress': 0, 'language': 'en-US', 'updated': '2024-06-19T20:21:07.219Z', 'status': 'ready'}\n",
      "{'owner': '33104b95-9ae9-4790-b404-40e8528b19e8', 'base_model_name': 'en-US_Telephony_LSM', 'customization_id': 'fd697ab8-712e-4eb0-8571-244bf45ce9e3', 'dialect': 'en-US', 'versions': ['en-US_Telephony_LSM.v2023-10-31'], 'created': '2024-06-19T20:10:50.038Z', 'name': 'CustomPOC_en-US_Telephony_LSM', 'description': '', 'progress': 0, 'language': 'en-US', 'updated': '2024-06-19T20:21:07.219Z', 'status': 'ready'}\n",
      "{'owner': '33104b95-9ae9-4790-b404-40e8528b19e8', 'base_model_name': 'en-US_Telephony_LSM', 'customization_id': 'fd697ab8-712e-4eb0-8571-244bf45ce9e3', 'dialect': 'en-US', 'versions': ['en-US_Telephony_LSM.v2023-10-31'], 'created': '2024-06-19T20:10:50.038Z', 'name': 'CustomPOC_en-US_Telephony_LSM', 'description': '', 'progress': 0, 'language': 'en-US', 'updated': '2024-06-19T20:21:07.219Z', 'status': 'ready'}\n",
      "{'owner': '33104b95-9ae9-4790-b404-40e8528b19e8', 'base_model_name': 'en-US_Telephony_LSM', 'customization_id': 'fd697ab8-712e-4eb0-8571-244bf45ce9e3', 'dialect': 'en-US', 'versions': ['en-US_Telephony_LSM.v2023-10-31'], 'created': '2024-06-19T20:10:50.038Z', 'name': 'CustomPOC_en-US_Telephony_LSM', 'description': '', 'progress': 0, 'language': 'en-US', 'updated': '2024-06-19T20:21:07.219Z', 'status': 'ready'}\n",
      "{'owner': '33104b95-9ae9-4790-b404-40e8528b19e8', 'base_model_name': 'en-US_Telephony_LSM', 'customization_id': 'fd697ab8-712e-4eb0-8571-244bf45ce9e3', 'dialect': 'en-US', 'versions': ['en-US_Telephony_LSM.v2023-10-31'], 'created': '2024-06-19T20:10:50.038Z', 'name': 'CustomPOC_en-US_Telephony_LSM', 'description': '', 'progress': 0, 'language': 'en-US', 'updated': '2024-06-19T20:21:07.219Z', 'status': 'ready'}\n",
      "{'owner': '33104b95-9ae9-4790-b404-40e8528b19e8', 'base_model_name': 'en-US_Telephony_LSM', 'customization_id': 'fd697ab8-712e-4eb0-8571-244bf45ce9e3', 'dialect': 'en-US', 'versions': ['en-US_Telephony_LSM.v2023-10-31'], 'created': '2024-06-19T20:10:50.038Z', 'name': 'CustomPOC_en-US_Telephony_LSM', 'description': '', 'progress': 0, 'language': 'en-US', 'updated': '2024-06-19T20:21:07.219Z', 'status': 'ready'}\n",
      "{'owner': '33104b95-9ae9-4790-b404-40e8528b19e8', 'base_model_name': 'en-US_Telephony_LSM', 'customization_id': 'fd697ab8-712e-4eb0-8571-244bf45ce9e3', 'dialect': 'en-US', 'versions': ['en-US_Telephony_LSM.v2023-10-31'], 'created': '2024-06-19T20:10:50.038Z', 'name': 'CustomPOC_en-US_Telephony_LSM', 'description': '', 'progress': 0, 'language': 'en-US', 'updated': '2024-06-19T20:21:07.219Z', 'status': 'ready'}\n",
      "{'owner': '33104b95-9ae9-4790-b404-40e8528b19e8', 'base_model_name': 'en-US_Telephony_LSM', 'customization_id': 'fd697ab8-712e-4eb0-8571-244bf45ce9e3', 'dialect': 'en-US', 'versions': ['en-US_Telephony_LSM.v2023-10-31'], 'created': '2024-06-19T20:10:50.038Z', 'name': 'CustomPOC_en-US_Telephony_LSM', 'description': '', 'progress': 0, 'language': 'en-US', 'updated': '2024-06-19T20:21:07.219Z', 'status': 'ready'}\n",
      "{'owner': '33104b95-9ae9-4790-b404-40e8528b19e8', 'base_model_name': 'en-US_Telephony_LSM', 'customization_id': 'fd697ab8-712e-4eb0-8571-244bf45ce9e3', 'dialect': 'en-US', 'versions': ['en-US_Telephony_LSM.v2023-10-31'], 'created': '2024-06-19T20:10:50.038Z', 'name': 'CustomPOC_en-US_Telephony_LSM', 'description': '', 'progress': 0, 'language': 'en-US', 'updated': '2024-06-19T20:21:07.219Z', 'status': 'ready'}\n",
      "{'owner': '33104b95-9ae9-4790-b404-40e8528b19e8', 'base_model_name': 'en-US_Telephony_LSM', 'customization_id': 'fd697ab8-712e-4eb0-8571-244bf45ce9e3', 'dialect': 'en-US', 'versions': ['en-US_Telephony_LSM.v2023-10-31'], 'created': '2024-06-19T20:10:50.038Z', 'name': 'CustomPOC_en-US_Telephony_LSM', 'description': '', 'progress': 0, 'language': 'en-US', 'updated': '2024-06-19T20:21:07.219Z', 'status': 'ready'}\n",
      "{'owner': '33104b95-9ae9-4790-b404-40e8528b19e8', 'base_model_name': 'en-US_Telephony_LSM', 'customization_id': 'fd697ab8-712e-4eb0-8571-244bf45ce9e3', 'dialect': 'en-US', 'versions': ['en-US_Telephony_LSM.v2023-10-31'], 'created': '2024-06-19T20:10:50.038Z', 'name': 'CustomPOC_en-US_Telephony_LSM', 'description': '', 'progress': 0, 'language': 'en-US', 'updated': '2024-06-19T20:21:07.219Z', 'status': 'ready'}\n",
      "{'owner': '33104b95-9ae9-4790-b404-40e8528b19e8', 'base_model_name': 'en-US_Telephony_LSM', 'customization_id': 'fd697ab8-712e-4eb0-8571-244bf45ce9e3', 'dialect': 'en-US', 'versions': ['en-US_Telephony_LSM.v2023-10-31'], 'created': '2024-06-19T20:10:50.038Z', 'name': 'CustomPOC_en-US_Telephony_LSM', 'description': '', 'progress': 0, 'language': 'en-US', 'updated': '2024-06-19T20:21:07.219Z', 'status': 'ready'}\n",
      "{'owner': '33104b95-9ae9-4790-b404-40e8528b19e8', 'base_model_name': 'en-US_Telephony_LSM', 'customization_id': 'fd697ab8-712e-4eb0-8571-244bf45ce9e3', 'dialect': 'en-US', 'versions': ['en-US_Telephony_LSM.v2023-10-31'], 'created': '2024-06-19T20:10:50.038Z', 'name': 'CustomPOC_en-US_Telephony_LSM', 'description': '', 'progress': 0, 'language': 'en-US', 'updated': '2024-06-19T20:21:07.219Z', 'status': 'ready'}\n",
      "{'owner': '33104b95-9ae9-4790-b404-40e8528b19e8', 'base_model_name': 'en-US_Telephony_LSM', 'customization_id': 'fd697ab8-712e-4eb0-8571-244bf45ce9e3', 'dialect': 'en-US', 'versions': ['en-US_Telephony_LSM.v2023-10-31'], 'created': '2024-06-19T20:10:50.038Z', 'name': 'CustomPOC_en-US_Telephony_LSM', 'description': '', 'progress': 0, 'language': 'en-US', 'updated': '2024-06-19T20:21:07.219Z', 'status': 'ready'}\n",
      "{'owner': '33104b95-9ae9-4790-b404-40e8528b19e8', 'base_model_name': 'en-US_Telephony_LSM', 'customization_id': 'fd697ab8-712e-4eb0-8571-244bf45ce9e3', 'dialect': 'en-US', 'versions': ['en-US_Telephony_LSM.v2023-10-31'], 'created': '2024-06-19T20:10:50.038Z', 'name': 'CustomPOC_en-US_Telephony_LSM', 'description': '', 'progress': 0, 'language': 'en-US', 'updated': '2024-06-19T20:21:07.219Z', 'status': 'ready'}\n",
      "{'owner': '33104b95-9ae9-4790-b404-40e8528b19e8', 'base_model_name': 'en-US_Telephony_LSM', 'customization_id': 'fd697ab8-712e-4eb0-8571-244bf45ce9e3', 'dialect': 'en-US', 'versions': ['en-US_Telephony_LSM.v2023-10-31'], 'created': '2024-06-19T20:10:50.038Z', 'name': 'CustomPOC_en-US_Telephony_LSM', 'description': '', 'progress': 0, 'language': 'en-US', 'updated': '2024-06-19T20:21:07.219Z', 'status': 'ready'}\n",
      "{'owner': '33104b95-9ae9-4790-b404-40e8528b19e8', 'base_model_name': 'en-US_Telephony_LSM', 'customization_id': 'fd697ab8-712e-4eb0-8571-244bf45ce9e3', 'dialect': 'en-US', 'versions': ['en-US_Telephony_LSM.v2023-10-31'], 'created': '2024-06-19T20:10:50.038Z', 'name': 'CustomPOC_en-US_Telephony_LSM', 'description': '', 'progress': 0, 'language': 'en-US', 'updated': '2024-06-19T20:21:07.219Z', 'status': 'ready'}\n",
      "{'owner': '33104b95-9ae9-4790-b404-40e8528b19e8', 'base_model_name': 'en-US_Telephony_LSM', 'customization_id': 'fd697ab8-712e-4eb0-8571-244bf45ce9e3', 'dialect': 'en-US', 'versions': ['en-US_Telephony_LSM.v2023-10-31'], 'created': '2024-06-19T20:10:50.038Z', 'name': 'CustomPOC_en-US_Telephony_LSM', 'description': '', 'progress': 0, 'language': 'en-US', 'updated': '2024-06-19T20:21:07.219Z', 'status': 'ready'}\n",
      "{'owner': '33104b95-9ae9-4790-b404-40e8528b19e8', 'base_model_name': 'en-US_Telephony_LSM', 'customization_id': 'fd697ab8-712e-4eb0-8571-244bf45ce9e3', 'dialect': 'en-US', 'versions': ['en-US_Telephony_LSM.v2023-10-31'], 'created': '2024-06-19T20:10:50.038Z', 'name': 'CustomPOC_en-US_Telephony_LSM', 'description': '', 'progress': 0, 'language': 'en-US', 'updated': '2024-06-19T20:21:07.219Z', 'status': 'ready'}\n",
      "{'owner': '33104b95-9ae9-4790-b404-40e8528b19e8', 'base_model_name': 'en-US_Telephony_LSM', 'customization_id': 'fd697ab8-712e-4eb0-8571-244bf45ce9e3', 'dialect': 'en-US', 'versions': ['en-US_Telephony_LSM.v2023-10-31'], 'created': '2024-06-19T20:10:50.038Z', 'name': 'CustomPOC_en-US_Telephony_LSM', 'description': '', 'progress': 0, 'language': 'en-US', 'updated': '2024-06-19T20:21:07.219Z', 'status': 'ready'}\n",
      "{'owner': '33104b95-9ae9-4790-b404-40e8528b19e8', 'base_model_name': 'en-US_Telephony_LSM', 'customization_id': 'fd697ab8-712e-4eb0-8571-244bf45ce9e3', 'dialect': 'en-US', 'versions': ['en-US_Telephony_LSM.v2023-10-31'], 'created': '2024-06-19T20:10:50.038Z', 'name': 'CustomPOC_en-US_Telephony_LSM', 'description': '', 'progress': 0, 'language': 'en-US', 'updated': '2024-06-19T20:21:07.219Z', 'status': 'ready'}\n",
      "{'owner': '33104b95-9ae9-4790-b404-40e8528b19e8', 'base_model_name': 'en-US_Telephony_LSM', 'customization_id': 'fd697ab8-712e-4eb0-8571-244bf45ce9e3', 'dialect': 'en-US', 'versions': ['en-US_Telephony_LSM.v2023-10-31'], 'created': '2024-06-19T20:10:50.038Z', 'name': 'CustomPOC_en-US_Telephony_LSM', 'description': '', 'progress': 0, 'language': 'en-US', 'updated': '2024-06-19T20:21:07.219Z', 'status': 'ready'}\n",
      "{'owner': '33104b95-9ae9-4790-b404-40e8528b19e8', 'base_model_name': 'en-US_Telephony_LSM', 'customization_id': 'fd697ab8-712e-4eb0-8571-244bf45ce9e3', 'dialect': 'en-US', 'versions': ['en-US_Telephony_LSM.v2023-10-31'], 'created': '2024-06-19T20:10:50.038Z', 'name': 'CustomPOC_en-US_Telephony_LSM', 'description': '', 'progress': 0, 'language': 'en-US', 'updated': '2024-06-19T20:21:07.219Z', 'status': 'ready'}\n",
      "{'owner': '33104b95-9ae9-4790-b404-40e8528b19e8', 'base_model_name': 'en-US_Telephony_LSM', 'customization_id': 'fd697ab8-712e-4eb0-8571-244bf45ce9e3', 'dialect': 'en-US', 'versions': ['en-US_Telephony_LSM.v2023-10-31'], 'created': '2024-06-19T20:10:50.038Z', 'name': 'CustomPOC_en-US_Telephony_LSM', 'description': '', 'progress': 0, 'language': 'en-US', 'updated': '2024-06-19T20:21:07.219Z', 'status': 'ready'}\n",
      "{'owner': '33104b95-9ae9-4790-b404-40e8528b19e8', 'base_model_name': 'en-US_Telephony_LSM', 'customization_id': 'fd697ab8-712e-4eb0-8571-244bf45ce9e3', 'dialect': 'en-US', 'versions': ['en-US_Telephony_LSM.v2023-10-31'], 'created': '2024-06-19T20:10:50.038Z', 'name': 'CustomPOC_en-US_Telephony_LSM', 'description': '', 'progress': 0, 'language': 'en-US', 'updated': '2024-06-19T20:21:07.219Z', 'status': 'ready'}\n",
      "{'owner': '33104b95-9ae9-4790-b404-40e8528b19e8', 'base_model_name': 'en-US_Telephony_LSM', 'customization_id': 'fd697ab8-712e-4eb0-8571-244bf45ce9e3', 'dialect': 'en-US', 'versions': ['en-US_Telephony_LSM.v2023-10-31'], 'created': '2024-06-19T20:10:50.038Z', 'name': 'CustomPOC_en-US_Telephony_LSM', 'description': '', 'progress': 0, 'language': 'en-US', 'updated': '2024-06-19T20:21:07.219Z', 'status': 'ready'}\n",
      "{'owner': '33104b95-9ae9-4790-b404-40e8528b19e8', 'base_model_name': 'en-US_Telephony_LSM', 'customization_id': 'fd697ab8-712e-4eb0-8571-244bf45ce9e3', 'dialect': 'en-US', 'versions': ['en-US_Telephony_LSM.v2023-10-31'], 'created': '2024-06-19T20:10:50.038Z', 'name': 'CustomPOC_en-US_Telephony_LSM', 'description': '', 'progress': 0, 'language': 'en-US', 'updated': '2024-06-19T20:21:07.219Z', 'status': 'ready'}\n",
      "{'owner': '33104b95-9ae9-4790-b404-40e8528b19e8', 'base_model_name': 'en-US_Telephony_LSM', 'customization_id': 'fd697ab8-712e-4eb0-8571-244bf45ce9e3', 'dialect': 'en-US', 'versions': ['en-US_Telephony_LSM.v2023-10-31'], 'created': '2024-06-19T20:10:50.038Z', 'name': 'CustomPOC_en-US_Telephony_LSM', 'description': '', 'progress': 0, 'language': 'en-US', 'updated': '2024-06-19T20:21:07.219Z', 'status': 'ready'}\n",
      "{'owner': '33104b95-9ae9-4790-b404-40e8528b19e8', 'base_model_name': 'en-US_Telephony_LSM', 'customization_id': 'fd697ab8-712e-4eb0-8571-244bf45ce9e3', 'dialect': 'en-US', 'versions': ['en-US_Telephony_LSM.v2023-10-31'], 'created': '2024-06-19T20:10:50.038Z', 'name': 'CustomPOC_en-US_Telephony_LSM', 'description': '', 'progress': 0, 'language': 'en-US', 'updated': '2024-06-19T20:21:07.219Z', 'status': 'ready'}\n",
      "{'owner': '33104b95-9ae9-4790-b404-40e8528b19e8', 'base_model_name': 'en-US_Telephony_LSM', 'customization_id': 'fd697ab8-712e-4eb0-8571-244bf45ce9e3', 'dialect': 'en-US', 'versions': ['en-US_Telephony_LSM.v2023-10-31'], 'created': '2024-06-19T20:10:50.038Z', 'name': 'CustomPOC_en-US_Telephony_LSM', 'description': '', 'progress': 0, 'language': 'en-US', 'updated': '2024-06-19T20:21:07.219Z', 'status': 'ready'}\n",
      "{'owner': '33104b95-9ae9-4790-b404-40e8528b19e8', 'base_model_name': 'en-US_Telephony_LSM', 'customization_id': 'fd697ab8-712e-4eb0-8571-244bf45ce9e3', 'dialect': 'en-US', 'versions': ['en-US_Telephony_LSM.v2023-10-31'], 'created': '2024-06-19T20:10:50.038Z', 'name': 'CustomPOC_en-US_Telephony_LSM', 'description': '', 'progress': 0, 'language': 'en-US', 'updated': '2024-06-19T20:21:07.219Z', 'status': 'ready'}\n",
      "Training\n",
      "Wait Training\n",
      "Wait Training\n",
      "Wait Training\n",
      "Wait Training\n",
      "Wait Training\n",
      "Wait Training\n"
     ]
    },
    {
     "data": {
      "text/plain": [
       "True"
      ]
     },
     "execution_count": 10,
     "metadata": {},
     "output_type": "execute_result"
    }
   ],
   "source": [
    "trainCorpus(lm_id_tel, corpus_name, corpus_file, speech_to_text)"
   ]
  },
  {
   "cell_type": "markdown",
   "metadata": {},
   "source": [
    "## Multimedia LSM\n",
    "\n",
    "In this section, we will train a language model for the Multimedia LSM model."
   ]
  },
  {
   "cell_type": "code",
   "execution_count": 11,
   "metadata": {},
   "outputs": [
    {
     "name": "stdout",
     "output_type": "stream",
     "text": [
      "{\n",
      "  \"customization_id\": \"4618f695-8653-46f4-b3b5-6d7c85f2f9bc\"\n",
      "}\n"
     ]
    }
   ],
   "source": [
    "base_model_MM = 'en-US_Multimedia_LSM'\n",
    "\n",
    "lm_response = createCustom(lm_name_prefix, speech_to_text, base_model_MM)\n",
    "lm_id_MM = lm_response['customization_id']"
   ]
  },
  {
   "cell_type": "markdown",
   "metadata": {},
   "source": [
    "The previous id is the language customization id. You will need it for the implementation. Please copy it to a safe place. The following cell code can take a while to run."
   ]
  },
  {
   "cell_type": "code",
   "execution_count": 12,
   "metadata": {},
   "outputs": [
    {
     "name": "stdout",
     "output_type": "stream",
     "text": [
      "Added Corpus\n",
      "Wait Corpus\n",
      "Wait Corpus\n",
      "Wait Corpus\n",
      "Wait Corpus\n",
      "{'owner': '33104b95-9ae9-4790-b404-40e8528b19e8', 'base_model_name': 'en-US_Multimedia_LSM', 'customization_id': '4618f695-8653-46f4-b3b5-6d7c85f2f9bc', 'dialect': 'en-US', 'versions': ['en-US_Multimedia_LSM.v2023-11-17'], 'created': '2024-06-19T20:33:44.471Z', 'name': 'CustomPOC_en-US_Multimedia_LSM', 'description': '', 'progress': 0, 'language': 'en-US', 'updated': '2024-06-19T20:37:10.440Z', 'status': 'ready'}\n",
      "{'owner': '33104b95-9ae9-4790-b404-40e8528b19e8', 'base_model_name': 'en-US_Multimedia_LSM', 'customization_id': '4618f695-8653-46f4-b3b5-6d7c85f2f9bc', 'dialect': 'en-US', 'versions': ['en-US_Multimedia_LSM.v2023-11-17'], 'created': '2024-06-19T20:33:44.471Z', 'name': 'CustomPOC_en-US_Multimedia_LSM', 'description': '', 'progress': 0, 'language': 'en-US', 'updated': '2024-06-19T20:37:10.440Z', 'status': 'ready'}\n",
      "{'owner': '33104b95-9ae9-4790-b404-40e8528b19e8', 'base_model_name': 'en-US_Multimedia_LSM', 'customization_id': '4618f695-8653-46f4-b3b5-6d7c85f2f9bc', 'dialect': 'en-US', 'versions': ['en-US_Multimedia_LSM.v2023-11-17'], 'created': '2024-06-19T20:33:44.471Z', 'name': 'CustomPOC_en-US_Multimedia_LSM', 'description': '', 'progress': 0, 'language': 'en-US', 'updated': '2024-06-19T20:37:10.440Z', 'status': 'ready'}\n",
      "{'owner': '33104b95-9ae9-4790-b404-40e8528b19e8', 'base_model_name': 'en-US_Multimedia_LSM', 'customization_id': '4618f695-8653-46f4-b3b5-6d7c85f2f9bc', 'dialect': 'en-US', 'versions': ['en-US_Multimedia_LSM.v2023-11-17'], 'created': '2024-06-19T20:33:44.471Z', 'name': 'CustomPOC_en-US_Multimedia_LSM', 'description': '', 'progress': 0, 'language': 'en-US', 'updated': '2024-06-19T20:37:10.440Z', 'status': 'ready'}\n",
      "{'owner': '33104b95-9ae9-4790-b404-40e8528b19e8', 'base_model_name': 'en-US_Multimedia_LSM', 'customization_id': '4618f695-8653-46f4-b3b5-6d7c85f2f9bc', 'dialect': 'en-US', 'versions': ['en-US_Multimedia_LSM.v2023-11-17'], 'created': '2024-06-19T20:33:44.471Z', 'name': 'CustomPOC_en-US_Multimedia_LSM', 'description': '', 'progress': 0, 'language': 'en-US', 'updated': '2024-06-19T20:37:10.440Z', 'status': 'ready'}\n",
      "{'owner': '33104b95-9ae9-4790-b404-40e8528b19e8', 'base_model_name': 'en-US_Multimedia_LSM', 'customization_id': '4618f695-8653-46f4-b3b5-6d7c85f2f9bc', 'dialect': 'en-US', 'versions': ['en-US_Multimedia_LSM.v2023-11-17'], 'created': '2024-06-19T20:33:44.471Z', 'name': 'CustomPOC_en-US_Multimedia_LSM', 'description': '', 'progress': 0, 'language': 'en-US', 'updated': '2024-06-19T20:37:10.440Z', 'status': 'ready'}\n",
      "{'owner': '33104b95-9ae9-4790-b404-40e8528b19e8', 'base_model_name': 'en-US_Multimedia_LSM', 'customization_id': '4618f695-8653-46f4-b3b5-6d7c85f2f9bc', 'dialect': 'en-US', 'versions': ['en-US_Multimedia_LSM.v2023-11-17'], 'created': '2024-06-19T20:33:44.471Z', 'name': 'CustomPOC_en-US_Multimedia_LSM', 'description': '', 'progress': 0, 'language': 'en-US', 'updated': '2024-06-19T20:37:10.440Z', 'status': 'ready'}\n",
      "{'owner': '33104b95-9ae9-4790-b404-40e8528b19e8', 'base_model_name': 'en-US_Multimedia_LSM', 'customization_id': '4618f695-8653-46f4-b3b5-6d7c85f2f9bc', 'dialect': 'en-US', 'versions': ['en-US_Multimedia_LSM.v2023-11-17'], 'created': '2024-06-19T20:33:44.471Z', 'name': 'CustomPOC_en-US_Multimedia_LSM', 'description': '', 'progress': 0, 'language': 'en-US', 'updated': '2024-06-19T20:37:10.440Z', 'status': 'ready'}\n",
      "{'owner': '33104b95-9ae9-4790-b404-40e8528b19e8', 'base_model_name': 'en-US_Multimedia_LSM', 'customization_id': '4618f695-8653-46f4-b3b5-6d7c85f2f9bc', 'dialect': 'en-US', 'versions': ['en-US_Multimedia_LSM.v2023-11-17'], 'created': '2024-06-19T20:33:44.471Z', 'name': 'CustomPOC_en-US_Multimedia_LSM', 'description': '', 'progress': 0, 'language': 'en-US', 'updated': '2024-06-19T20:37:10.440Z', 'status': 'ready'}\n",
      "{'owner': '33104b95-9ae9-4790-b404-40e8528b19e8', 'base_model_name': 'en-US_Multimedia_LSM', 'customization_id': '4618f695-8653-46f4-b3b5-6d7c85f2f9bc', 'dialect': 'en-US', 'versions': ['en-US_Multimedia_LSM.v2023-11-17'], 'created': '2024-06-19T20:33:44.471Z', 'name': 'CustomPOC_en-US_Multimedia_LSM', 'description': '', 'progress': 0, 'language': 'en-US', 'updated': '2024-06-19T20:37:10.440Z', 'status': 'ready'}\n",
      "{'owner': '33104b95-9ae9-4790-b404-40e8528b19e8', 'base_model_name': 'en-US_Multimedia_LSM', 'customization_id': '4618f695-8653-46f4-b3b5-6d7c85f2f9bc', 'dialect': 'en-US', 'versions': ['en-US_Multimedia_LSM.v2023-11-17'], 'created': '2024-06-19T20:33:44.471Z', 'name': 'CustomPOC_en-US_Multimedia_LSM', 'description': '', 'progress': 0, 'language': 'en-US', 'updated': '2024-06-19T20:37:10.440Z', 'status': 'ready'}\n",
      "{'owner': '33104b95-9ae9-4790-b404-40e8528b19e8', 'base_model_name': 'en-US_Multimedia_LSM', 'customization_id': '4618f695-8653-46f4-b3b5-6d7c85f2f9bc', 'dialect': 'en-US', 'versions': ['en-US_Multimedia_LSM.v2023-11-17'], 'created': '2024-06-19T20:33:44.471Z', 'name': 'CustomPOC_en-US_Multimedia_LSM', 'description': '', 'progress': 0, 'language': 'en-US', 'updated': '2024-06-19T20:37:10.440Z', 'status': 'ready'}\n",
      "{'owner': '33104b95-9ae9-4790-b404-40e8528b19e8', 'base_model_name': 'en-US_Multimedia_LSM', 'customization_id': '4618f695-8653-46f4-b3b5-6d7c85f2f9bc', 'dialect': 'en-US', 'versions': ['en-US_Multimedia_LSM.v2023-11-17'], 'created': '2024-06-19T20:33:44.471Z', 'name': 'CustomPOC_en-US_Multimedia_LSM', 'description': '', 'progress': 0, 'language': 'en-US', 'updated': '2024-06-19T20:37:10.440Z', 'status': 'ready'}\n",
      "{'owner': '33104b95-9ae9-4790-b404-40e8528b19e8', 'base_model_name': 'en-US_Multimedia_LSM', 'customization_id': '4618f695-8653-46f4-b3b5-6d7c85f2f9bc', 'dialect': 'en-US', 'versions': ['en-US_Multimedia_LSM.v2023-11-17'], 'created': '2024-06-19T20:33:44.471Z', 'name': 'CustomPOC_en-US_Multimedia_LSM', 'description': '', 'progress': 0, 'language': 'en-US', 'updated': '2024-06-19T20:37:10.440Z', 'status': 'ready'}\n",
      "{'owner': '33104b95-9ae9-4790-b404-40e8528b19e8', 'base_model_name': 'en-US_Multimedia_LSM', 'customization_id': '4618f695-8653-46f4-b3b5-6d7c85f2f9bc', 'dialect': 'en-US', 'versions': ['en-US_Multimedia_LSM.v2023-11-17'], 'created': '2024-06-19T20:33:44.471Z', 'name': 'CustomPOC_en-US_Multimedia_LSM', 'description': '', 'progress': 0, 'language': 'en-US', 'updated': '2024-06-19T20:37:10.440Z', 'status': 'ready'}\n",
      "{'owner': '33104b95-9ae9-4790-b404-40e8528b19e8', 'base_model_name': 'en-US_Multimedia_LSM', 'customization_id': '4618f695-8653-46f4-b3b5-6d7c85f2f9bc', 'dialect': 'en-US', 'versions': ['en-US_Multimedia_LSM.v2023-11-17'], 'created': '2024-06-19T20:33:44.471Z', 'name': 'CustomPOC_en-US_Multimedia_LSM', 'description': '', 'progress': 0, 'language': 'en-US', 'updated': '2024-06-19T20:37:10.440Z', 'status': 'ready'}\n",
      "{'owner': '33104b95-9ae9-4790-b404-40e8528b19e8', 'base_model_name': 'en-US_Multimedia_LSM', 'customization_id': '4618f695-8653-46f4-b3b5-6d7c85f2f9bc', 'dialect': 'en-US', 'versions': ['en-US_Multimedia_LSM.v2023-11-17'], 'created': '2024-06-19T20:33:44.471Z', 'name': 'CustomPOC_en-US_Multimedia_LSM', 'description': '', 'progress': 0, 'language': 'en-US', 'updated': '2024-06-19T20:37:10.440Z', 'status': 'ready'}\n",
      "{'owner': '33104b95-9ae9-4790-b404-40e8528b19e8', 'base_model_name': 'en-US_Multimedia_LSM', 'customization_id': '4618f695-8653-46f4-b3b5-6d7c85f2f9bc', 'dialect': 'en-US', 'versions': ['en-US_Multimedia_LSM.v2023-11-17'], 'created': '2024-06-19T20:33:44.471Z', 'name': 'CustomPOC_en-US_Multimedia_LSM', 'description': '', 'progress': 0, 'language': 'en-US', 'updated': '2024-06-19T20:37:10.440Z', 'status': 'ready'}\n",
      "{'owner': '33104b95-9ae9-4790-b404-40e8528b19e8', 'base_model_name': 'en-US_Multimedia_LSM', 'customization_id': '4618f695-8653-46f4-b3b5-6d7c85f2f9bc', 'dialect': 'en-US', 'versions': ['en-US_Multimedia_LSM.v2023-11-17'], 'created': '2024-06-19T20:33:44.471Z', 'name': 'CustomPOC_en-US_Multimedia_LSM', 'description': '', 'progress': 0, 'language': 'en-US', 'updated': '2024-06-19T20:37:10.440Z', 'status': 'ready'}\n",
      "{'owner': '33104b95-9ae9-4790-b404-40e8528b19e8', 'base_model_name': 'en-US_Multimedia_LSM', 'customization_id': '4618f695-8653-46f4-b3b5-6d7c85f2f9bc', 'dialect': 'en-US', 'versions': ['en-US_Multimedia_LSM.v2023-11-17'], 'created': '2024-06-19T20:33:44.471Z', 'name': 'CustomPOC_en-US_Multimedia_LSM', 'description': '', 'progress': 0, 'language': 'en-US', 'updated': '2024-06-19T20:37:10.440Z', 'status': 'ready'}\n",
      "{'owner': '33104b95-9ae9-4790-b404-40e8528b19e8', 'base_model_name': 'en-US_Multimedia_LSM', 'customization_id': '4618f695-8653-46f4-b3b5-6d7c85f2f9bc', 'dialect': 'en-US', 'versions': ['en-US_Multimedia_LSM.v2023-11-17'], 'created': '2024-06-19T20:33:44.471Z', 'name': 'CustomPOC_en-US_Multimedia_LSM', 'description': '', 'progress': 0, 'language': 'en-US', 'updated': '2024-06-19T20:37:10.440Z', 'status': 'ready'}\n",
      "{'owner': '33104b95-9ae9-4790-b404-40e8528b19e8', 'base_model_name': 'en-US_Multimedia_LSM', 'customization_id': '4618f695-8653-46f4-b3b5-6d7c85f2f9bc', 'dialect': 'en-US', 'versions': ['en-US_Multimedia_LSM.v2023-11-17'], 'created': '2024-06-19T20:33:44.471Z', 'name': 'CustomPOC_en-US_Multimedia_LSM', 'description': '', 'progress': 0, 'language': 'en-US', 'updated': '2024-06-19T20:37:10.440Z', 'status': 'ready'}\n",
      "{'owner': '33104b95-9ae9-4790-b404-40e8528b19e8', 'base_model_name': 'en-US_Multimedia_LSM', 'customization_id': '4618f695-8653-46f4-b3b5-6d7c85f2f9bc', 'dialect': 'en-US', 'versions': ['en-US_Multimedia_LSM.v2023-11-17'], 'created': '2024-06-19T20:33:44.471Z', 'name': 'CustomPOC_en-US_Multimedia_LSM', 'description': '', 'progress': 0, 'language': 'en-US', 'updated': '2024-06-19T20:37:10.440Z', 'status': 'ready'}\n",
      "{'owner': '33104b95-9ae9-4790-b404-40e8528b19e8', 'base_model_name': 'en-US_Multimedia_LSM', 'customization_id': '4618f695-8653-46f4-b3b5-6d7c85f2f9bc', 'dialect': 'en-US', 'versions': ['en-US_Multimedia_LSM.v2023-11-17'], 'created': '2024-06-19T20:33:44.471Z', 'name': 'CustomPOC_en-US_Multimedia_LSM', 'description': '', 'progress': 0, 'language': 'en-US', 'updated': '2024-06-19T20:37:10.440Z', 'status': 'ready'}\n",
      "{'owner': '33104b95-9ae9-4790-b404-40e8528b19e8', 'base_model_name': 'en-US_Multimedia_LSM', 'customization_id': '4618f695-8653-46f4-b3b5-6d7c85f2f9bc', 'dialect': 'en-US', 'versions': ['en-US_Multimedia_LSM.v2023-11-17'], 'created': '2024-06-19T20:33:44.471Z', 'name': 'CustomPOC_en-US_Multimedia_LSM', 'description': '', 'progress': 0, 'language': 'en-US', 'updated': '2024-06-19T20:37:10.440Z', 'status': 'ready'}\n",
      "{'owner': '33104b95-9ae9-4790-b404-40e8528b19e8', 'base_model_name': 'en-US_Multimedia_LSM', 'customization_id': '4618f695-8653-46f4-b3b5-6d7c85f2f9bc', 'dialect': 'en-US', 'versions': ['en-US_Multimedia_LSM.v2023-11-17'], 'created': '2024-06-19T20:33:44.471Z', 'name': 'CustomPOC_en-US_Multimedia_LSM', 'description': '', 'progress': 0, 'language': 'en-US', 'updated': '2024-06-19T20:37:10.440Z', 'status': 'ready'}\n",
      "{'owner': '33104b95-9ae9-4790-b404-40e8528b19e8', 'base_model_name': 'en-US_Multimedia_LSM', 'customization_id': '4618f695-8653-46f4-b3b5-6d7c85f2f9bc', 'dialect': 'en-US', 'versions': ['en-US_Multimedia_LSM.v2023-11-17'], 'created': '2024-06-19T20:33:44.471Z', 'name': 'CustomPOC_en-US_Multimedia_LSM', 'description': '', 'progress': 0, 'language': 'en-US', 'updated': '2024-06-19T20:37:10.440Z', 'status': 'ready'}\n",
      "{'owner': '33104b95-9ae9-4790-b404-40e8528b19e8', 'base_model_name': 'en-US_Multimedia_LSM', 'customization_id': '4618f695-8653-46f4-b3b5-6d7c85f2f9bc', 'dialect': 'en-US', 'versions': ['en-US_Multimedia_LSM.v2023-11-17'], 'created': '2024-06-19T20:33:44.471Z', 'name': 'CustomPOC_en-US_Multimedia_LSM', 'description': '', 'progress': 0, 'language': 'en-US', 'updated': '2024-06-19T20:37:10.440Z', 'status': 'ready'}\n",
      "{'owner': '33104b95-9ae9-4790-b404-40e8528b19e8', 'base_model_name': 'en-US_Multimedia_LSM', 'customization_id': '4618f695-8653-46f4-b3b5-6d7c85f2f9bc', 'dialect': 'en-US', 'versions': ['en-US_Multimedia_LSM.v2023-11-17'], 'created': '2024-06-19T20:33:44.471Z', 'name': 'CustomPOC_en-US_Multimedia_LSM', 'description': '', 'progress': 0, 'language': 'en-US', 'updated': '2024-06-19T20:37:10.440Z', 'status': 'ready'}\n",
      "{'owner': '33104b95-9ae9-4790-b404-40e8528b19e8', 'base_model_name': 'en-US_Multimedia_LSM', 'customization_id': '4618f695-8653-46f4-b3b5-6d7c85f2f9bc', 'dialect': 'en-US', 'versions': ['en-US_Multimedia_LSM.v2023-11-17'], 'created': '2024-06-19T20:33:44.471Z', 'name': 'CustomPOC_en-US_Multimedia_LSM', 'description': '', 'progress': 0, 'language': 'en-US', 'updated': '2024-06-19T20:37:10.440Z', 'status': 'ready'}\n",
      "{'owner': '33104b95-9ae9-4790-b404-40e8528b19e8', 'base_model_name': 'en-US_Multimedia_LSM', 'customization_id': '4618f695-8653-46f4-b3b5-6d7c85f2f9bc', 'dialect': 'en-US', 'versions': ['en-US_Multimedia_LSM.v2023-11-17'], 'created': '2024-06-19T20:33:44.471Z', 'name': 'CustomPOC_en-US_Multimedia_LSM', 'description': '', 'progress': 0, 'language': 'en-US', 'updated': '2024-06-19T20:37:10.440Z', 'status': 'ready'}\n",
      "{'owner': '33104b95-9ae9-4790-b404-40e8528b19e8', 'base_model_name': 'en-US_Multimedia_LSM', 'customization_id': '4618f695-8653-46f4-b3b5-6d7c85f2f9bc', 'dialect': 'en-US', 'versions': ['en-US_Multimedia_LSM.v2023-11-17'], 'created': '2024-06-19T20:33:44.471Z', 'name': 'CustomPOC_en-US_Multimedia_LSM', 'description': '', 'progress': 0, 'language': 'en-US', 'updated': '2024-06-19T20:37:10.440Z', 'status': 'ready'}\n",
      "{'owner': '33104b95-9ae9-4790-b404-40e8528b19e8', 'base_model_name': 'en-US_Multimedia_LSM', 'customization_id': '4618f695-8653-46f4-b3b5-6d7c85f2f9bc', 'dialect': 'en-US', 'versions': ['en-US_Multimedia_LSM.v2023-11-17'], 'created': '2024-06-19T20:33:44.471Z', 'name': 'CustomPOC_en-US_Multimedia_LSM', 'description': '', 'progress': 0, 'language': 'en-US', 'updated': '2024-06-19T20:37:10.440Z', 'status': 'ready'}\n",
      "{'owner': '33104b95-9ae9-4790-b404-40e8528b19e8', 'base_model_name': 'en-US_Multimedia_LSM', 'customization_id': '4618f695-8653-46f4-b3b5-6d7c85f2f9bc', 'dialect': 'en-US', 'versions': ['en-US_Multimedia_LSM.v2023-11-17'], 'created': '2024-06-19T20:33:44.471Z', 'name': 'CustomPOC_en-US_Multimedia_LSM', 'description': '', 'progress': 0, 'language': 'en-US', 'updated': '2024-06-19T20:37:10.440Z', 'status': 'ready'}\n",
      "{'owner': '33104b95-9ae9-4790-b404-40e8528b19e8', 'base_model_name': 'en-US_Multimedia_LSM', 'customization_id': '4618f695-8653-46f4-b3b5-6d7c85f2f9bc', 'dialect': 'en-US', 'versions': ['en-US_Multimedia_LSM.v2023-11-17'], 'created': '2024-06-19T20:33:44.471Z', 'name': 'CustomPOC_en-US_Multimedia_LSM', 'description': '', 'progress': 0, 'language': 'en-US', 'updated': '2024-06-19T20:37:10.440Z', 'status': 'ready'}\n",
      "{'owner': '33104b95-9ae9-4790-b404-40e8528b19e8', 'base_model_name': 'en-US_Multimedia_LSM', 'customization_id': '4618f695-8653-46f4-b3b5-6d7c85f2f9bc', 'dialect': 'en-US', 'versions': ['en-US_Multimedia_LSM.v2023-11-17'], 'created': '2024-06-19T20:33:44.471Z', 'name': 'CustomPOC_en-US_Multimedia_LSM', 'description': '', 'progress': 0, 'language': 'en-US', 'updated': '2024-06-19T20:37:10.440Z', 'status': 'ready'}\n",
      "{'owner': '33104b95-9ae9-4790-b404-40e8528b19e8', 'base_model_name': 'en-US_Multimedia_LSM', 'customization_id': '4618f695-8653-46f4-b3b5-6d7c85f2f9bc', 'dialect': 'en-US', 'versions': ['en-US_Multimedia_LSM.v2023-11-17'], 'created': '2024-06-19T20:33:44.471Z', 'name': 'CustomPOC_en-US_Multimedia_LSM', 'description': '', 'progress': 0, 'language': 'en-US', 'updated': '2024-06-19T20:37:10.440Z', 'status': 'ready'}\n",
      "{'owner': '33104b95-9ae9-4790-b404-40e8528b19e8', 'base_model_name': 'en-US_Multimedia_LSM', 'customization_id': '4618f695-8653-46f4-b3b5-6d7c85f2f9bc', 'dialect': 'en-US', 'versions': ['en-US_Multimedia_LSM.v2023-11-17'], 'created': '2024-06-19T20:33:44.471Z', 'name': 'CustomPOC_en-US_Multimedia_LSM', 'description': '', 'progress': 0, 'language': 'en-US', 'updated': '2024-06-19T20:37:10.440Z', 'status': 'ready'}\n",
      "{'owner': '33104b95-9ae9-4790-b404-40e8528b19e8', 'base_model_name': 'en-US_Multimedia_LSM', 'customization_id': '4618f695-8653-46f4-b3b5-6d7c85f2f9bc', 'dialect': 'en-US', 'versions': ['en-US_Multimedia_LSM.v2023-11-17'], 'created': '2024-06-19T20:33:44.471Z', 'name': 'CustomPOC_en-US_Multimedia_LSM', 'description': '', 'progress': 0, 'language': 'en-US', 'updated': '2024-06-19T20:37:10.440Z', 'status': 'ready'}\n",
      "{'owner': '33104b95-9ae9-4790-b404-40e8528b19e8', 'base_model_name': 'en-US_Multimedia_LSM', 'customization_id': '4618f695-8653-46f4-b3b5-6d7c85f2f9bc', 'dialect': 'en-US', 'versions': ['en-US_Multimedia_LSM.v2023-11-17'], 'created': '2024-06-19T20:33:44.471Z', 'name': 'CustomPOC_en-US_Multimedia_LSM', 'description': '', 'progress': 0, 'language': 'en-US', 'updated': '2024-06-19T20:37:10.440Z', 'status': 'ready'}\n",
      "{'owner': '33104b95-9ae9-4790-b404-40e8528b19e8', 'base_model_name': 'en-US_Multimedia_LSM', 'customization_id': '4618f695-8653-46f4-b3b5-6d7c85f2f9bc', 'dialect': 'en-US', 'versions': ['en-US_Multimedia_LSM.v2023-11-17'], 'created': '2024-06-19T20:33:44.471Z', 'name': 'CustomPOC_en-US_Multimedia_LSM', 'description': '', 'progress': 0, 'language': 'en-US', 'updated': '2024-06-19T20:37:10.440Z', 'status': 'ready'}\n",
      "{'owner': '33104b95-9ae9-4790-b404-40e8528b19e8', 'base_model_name': 'en-US_Multimedia_LSM', 'customization_id': '4618f695-8653-46f4-b3b5-6d7c85f2f9bc', 'dialect': 'en-US', 'versions': ['en-US_Multimedia_LSM.v2023-11-17'], 'created': '2024-06-19T20:33:44.471Z', 'name': 'CustomPOC_en-US_Multimedia_LSM', 'description': '', 'progress': 0, 'language': 'en-US', 'updated': '2024-06-19T20:37:10.440Z', 'status': 'ready'}\n",
      "{'owner': '33104b95-9ae9-4790-b404-40e8528b19e8', 'base_model_name': 'en-US_Multimedia_LSM', 'customization_id': '4618f695-8653-46f4-b3b5-6d7c85f2f9bc', 'dialect': 'en-US', 'versions': ['en-US_Multimedia_LSM.v2023-11-17'], 'created': '2024-06-19T20:33:44.471Z', 'name': 'CustomPOC_en-US_Multimedia_LSM', 'description': '', 'progress': 0, 'language': 'en-US', 'updated': '2024-06-19T20:37:10.440Z', 'status': 'ready'}\n",
      "{'owner': '33104b95-9ae9-4790-b404-40e8528b19e8', 'base_model_name': 'en-US_Multimedia_LSM', 'customization_id': '4618f695-8653-46f4-b3b5-6d7c85f2f9bc', 'dialect': 'en-US', 'versions': ['en-US_Multimedia_LSM.v2023-11-17'], 'created': '2024-06-19T20:33:44.471Z', 'name': 'CustomPOC_en-US_Multimedia_LSM', 'description': '', 'progress': 0, 'language': 'en-US', 'updated': '2024-06-19T20:37:10.440Z', 'status': 'ready'}\n",
      "{'owner': '33104b95-9ae9-4790-b404-40e8528b19e8', 'base_model_name': 'en-US_Multimedia_LSM', 'customization_id': '4618f695-8653-46f4-b3b5-6d7c85f2f9bc', 'dialect': 'en-US', 'versions': ['en-US_Multimedia_LSM.v2023-11-17'], 'created': '2024-06-19T20:33:44.471Z', 'name': 'CustomPOC_en-US_Multimedia_LSM', 'description': '', 'progress': 0, 'language': 'en-US', 'updated': '2024-06-19T20:37:10.440Z', 'status': 'ready'}\n",
      "{'owner': '33104b95-9ae9-4790-b404-40e8528b19e8', 'base_model_name': 'en-US_Multimedia_LSM', 'customization_id': '4618f695-8653-46f4-b3b5-6d7c85f2f9bc', 'dialect': 'en-US', 'versions': ['en-US_Multimedia_LSM.v2023-11-17'], 'created': '2024-06-19T20:33:44.471Z', 'name': 'CustomPOC_en-US_Multimedia_LSM', 'description': '', 'progress': 0, 'language': 'en-US', 'updated': '2024-06-19T20:37:10.440Z', 'status': 'ready'}\n",
      "{'owner': '33104b95-9ae9-4790-b404-40e8528b19e8', 'base_model_name': 'en-US_Multimedia_LSM', 'customization_id': '4618f695-8653-46f4-b3b5-6d7c85f2f9bc', 'dialect': 'en-US', 'versions': ['en-US_Multimedia_LSM.v2023-11-17'], 'created': '2024-06-19T20:33:44.471Z', 'name': 'CustomPOC_en-US_Multimedia_LSM', 'description': '', 'progress': 0, 'language': 'en-US', 'updated': '2024-06-19T20:37:10.440Z', 'status': 'ready'}\n",
      "{'owner': '33104b95-9ae9-4790-b404-40e8528b19e8', 'base_model_name': 'en-US_Multimedia_LSM', 'customization_id': '4618f695-8653-46f4-b3b5-6d7c85f2f9bc', 'dialect': 'en-US', 'versions': ['en-US_Multimedia_LSM.v2023-11-17'], 'created': '2024-06-19T20:33:44.471Z', 'name': 'CustomPOC_en-US_Multimedia_LSM', 'description': '', 'progress': 0, 'language': 'en-US', 'updated': '2024-06-19T20:37:10.440Z', 'status': 'ready'}\n",
      "{'owner': '33104b95-9ae9-4790-b404-40e8528b19e8', 'base_model_name': 'en-US_Multimedia_LSM', 'customization_id': '4618f695-8653-46f4-b3b5-6d7c85f2f9bc', 'dialect': 'en-US', 'versions': ['en-US_Multimedia_LSM.v2023-11-17'], 'created': '2024-06-19T20:33:44.471Z', 'name': 'CustomPOC_en-US_Multimedia_LSM', 'description': '', 'progress': 0, 'language': 'en-US', 'updated': '2024-06-19T20:37:10.440Z', 'status': 'ready'}\n",
      "{'owner': '33104b95-9ae9-4790-b404-40e8528b19e8', 'base_model_name': 'en-US_Multimedia_LSM', 'customization_id': '4618f695-8653-46f4-b3b5-6d7c85f2f9bc', 'dialect': 'en-US', 'versions': ['en-US_Multimedia_LSM.v2023-11-17'], 'created': '2024-06-19T20:33:44.471Z', 'name': 'CustomPOC_en-US_Multimedia_LSM', 'description': '', 'progress': 0, 'language': 'en-US', 'updated': '2024-06-19T20:37:10.440Z', 'status': 'ready'}\n",
      "{'owner': '33104b95-9ae9-4790-b404-40e8528b19e8', 'base_model_name': 'en-US_Multimedia_LSM', 'customization_id': '4618f695-8653-46f4-b3b5-6d7c85f2f9bc', 'dialect': 'en-US', 'versions': ['en-US_Multimedia_LSM.v2023-11-17'], 'created': '2024-06-19T20:33:44.471Z', 'name': 'CustomPOC_en-US_Multimedia_LSM', 'description': '', 'progress': 0, 'language': 'en-US', 'updated': '2024-06-19T20:37:10.440Z', 'status': 'ready'}\n",
      "{'owner': '33104b95-9ae9-4790-b404-40e8528b19e8', 'base_model_name': 'en-US_Multimedia_LSM', 'customization_id': '4618f695-8653-46f4-b3b5-6d7c85f2f9bc', 'dialect': 'en-US', 'versions': ['en-US_Multimedia_LSM.v2023-11-17'], 'created': '2024-06-19T20:33:44.471Z', 'name': 'CustomPOC_en-US_Multimedia_LSM', 'description': '', 'progress': 0, 'language': 'en-US', 'updated': '2024-06-19T20:37:10.440Z', 'status': 'ready'}\n",
      "{'owner': '33104b95-9ae9-4790-b404-40e8528b19e8', 'base_model_name': 'en-US_Multimedia_LSM', 'customization_id': '4618f695-8653-46f4-b3b5-6d7c85f2f9bc', 'dialect': 'en-US', 'versions': ['en-US_Multimedia_LSM.v2023-11-17'], 'created': '2024-06-19T20:33:44.471Z', 'name': 'CustomPOC_en-US_Multimedia_LSM', 'description': '', 'progress': 0, 'language': 'en-US', 'updated': '2024-06-19T20:37:10.440Z', 'status': 'ready'}\n",
      "{'owner': '33104b95-9ae9-4790-b404-40e8528b19e8', 'base_model_name': 'en-US_Multimedia_LSM', 'customization_id': '4618f695-8653-46f4-b3b5-6d7c85f2f9bc', 'dialect': 'en-US', 'versions': ['en-US_Multimedia_LSM.v2023-11-17'], 'created': '2024-06-19T20:33:44.471Z', 'name': 'CustomPOC_en-US_Multimedia_LSM', 'description': '', 'progress': 0, 'language': 'en-US', 'updated': '2024-06-19T20:37:10.440Z', 'status': 'ready'}\n",
      "{'owner': '33104b95-9ae9-4790-b404-40e8528b19e8', 'base_model_name': 'en-US_Multimedia_LSM', 'customization_id': '4618f695-8653-46f4-b3b5-6d7c85f2f9bc', 'dialect': 'en-US', 'versions': ['en-US_Multimedia_LSM.v2023-11-17'], 'created': '2024-06-19T20:33:44.471Z', 'name': 'CustomPOC_en-US_Multimedia_LSM', 'description': '', 'progress': 0, 'language': 'en-US', 'updated': '2024-06-19T20:37:10.440Z', 'status': 'ready'}\n",
      "{'owner': '33104b95-9ae9-4790-b404-40e8528b19e8', 'base_model_name': 'en-US_Multimedia_LSM', 'customization_id': '4618f695-8653-46f4-b3b5-6d7c85f2f9bc', 'dialect': 'en-US', 'versions': ['en-US_Multimedia_LSM.v2023-11-17'], 'created': '2024-06-19T20:33:44.471Z', 'name': 'CustomPOC_en-US_Multimedia_LSM', 'description': '', 'progress': 0, 'language': 'en-US', 'updated': '2024-06-19T20:37:10.440Z', 'status': 'ready'}\n",
      "{'owner': '33104b95-9ae9-4790-b404-40e8528b19e8', 'base_model_name': 'en-US_Multimedia_LSM', 'customization_id': '4618f695-8653-46f4-b3b5-6d7c85f2f9bc', 'dialect': 'en-US', 'versions': ['en-US_Multimedia_LSM.v2023-11-17'], 'created': '2024-06-19T20:33:44.471Z', 'name': 'CustomPOC_en-US_Multimedia_LSM', 'description': '', 'progress': 0, 'language': 'en-US', 'updated': '2024-06-19T20:37:10.440Z', 'status': 'ready'}\n",
      "{'owner': '33104b95-9ae9-4790-b404-40e8528b19e8', 'base_model_name': 'en-US_Multimedia_LSM', 'customization_id': '4618f695-8653-46f4-b3b5-6d7c85f2f9bc', 'dialect': 'en-US', 'versions': ['en-US_Multimedia_LSM.v2023-11-17'], 'created': '2024-06-19T20:33:44.471Z', 'name': 'CustomPOC_en-US_Multimedia_LSM', 'description': '', 'progress': 0, 'language': 'en-US', 'updated': '2024-06-19T20:37:10.440Z', 'status': 'ready'}\n",
      "{'owner': '33104b95-9ae9-4790-b404-40e8528b19e8', 'base_model_name': 'en-US_Multimedia_LSM', 'customization_id': '4618f695-8653-46f4-b3b5-6d7c85f2f9bc', 'dialect': 'en-US', 'versions': ['en-US_Multimedia_LSM.v2023-11-17'], 'created': '2024-06-19T20:33:44.471Z', 'name': 'CustomPOC_en-US_Multimedia_LSM', 'description': '', 'progress': 0, 'language': 'en-US', 'updated': '2024-06-19T20:37:10.440Z', 'status': 'ready'}\n",
      "{'owner': '33104b95-9ae9-4790-b404-40e8528b19e8', 'base_model_name': 'en-US_Multimedia_LSM', 'customization_id': '4618f695-8653-46f4-b3b5-6d7c85f2f9bc', 'dialect': 'en-US', 'versions': ['en-US_Multimedia_LSM.v2023-11-17'], 'created': '2024-06-19T20:33:44.471Z', 'name': 'CustomPOC_en-US_Multimedia_LSM', 'description': '', 'progress': 0, 'language': 'en-US', 'updated': '2024-06-19T20:37:10.440Z', 'status': 'ready'}\n",
      "{'owner': '33104b95-9ae9-4790-b404-40e8528b19e8', 'base_model_name': 'en-US_Multimedia_LSM', 'customization_id': '4618f695-8653-46f4-b3b5-6d7c85f2f9bc', 'dialect': 'en-US', 'versions': ['en-US_Multimedia_LSM.v2023-11-17'], 'created': '2024-06-19T20:33:44.471Z', 'name': 'CustomPOC_en-US_Multimedia_LSM', 'description': '', 'progress': 0, 'language': 'en-US', 'updated': '2024-06-19T20:37:10.440Z', 'status': 'ready'}\n",
      "{'owner': '33104b95-9ae9-4790-b404-40e8528b19e8', 'base_model_name': 'en-US_Multimedia_LSM', 'customization_id': '4618f695-8653-46f4-b3b5-6d7c85f2f9bc', 'dialect': 'en-US', 'versions': ['en-US_Multimedia_LSM.v2023-11-17'], 'created': '2024-06-19T20:33:44.471Z', 'name': 'CustomPOC_en-US_Multimedia_LSM', 'description': '', 'progress': 0, 'language': 'en-US', 'updated': '2024-06-19T20:37:10.440Z', 'status': 'ready'}\n",
      "{'owner': '33104b95-9ae9-4790-b404-40e8528b19e8', 'base_model_name': 'en-US_Multimedia_LSM', 'customization_id': '4618f695-8653-46f4-b3b5-6d7c85f2f9bc', 'dialect': 'en-US', 'versions': ['en-US_Multimedia_LSM.v2023-11-17'], 'created': '2024-06-19T20:33:44.471Z', 'name': 'CustomPOC_en-US_Multimedia_LSM', 'description': '', 'progress': 0, 'language': 'en-US', 'updated': '2024-06-19T20:37:10.440Z', 'status': 'ready'}\n",
      "{'owner': '33104b95-9ae9-4790-b404-40e8528b19e8', 'base_model_name': 'en-US_Multimedia_LSM', 'customization_id': '4618f695-8653-46f4-b3b5-6d7c85f2f9bc', 'dialect': 'en-US', 'versions': ['en-US_Multimedia_LSM.v2023-11-17'], 'created': '2024-06-19T20:33:44.471Z', 'name': 'CustomPOC_en-US_Multimedia_LSM', 'description': '', 'progress': 0, 'language': 'en-US', 'updated': '2024-06-19T20:37:10.440Z', 'status': 'ready'}\n",
      "{'owner': '33104b95-9ae9-4790-b404-40e8528b19e8', 'base_model_name': 'en-US_Multimedia_LSM', 'customization_id': '4618f695-8653-46f4-b3b5-6d7c85f2f9bc', 'dialect': 'en-US', 'versions': ['en-US_Multimedia_LSM.v2023-11-17'], 'created': '2024-06-19T20:33:44.471Z', 'name': 'CustomPOC_en-US_Multimedia_LSM', 'description': '', 'progress': 0, 'language': 'en-US', 'updated': '2024-06-19T20:37:10.440Z', 'status': 'ready'}\n",
      "{'owner': '33104b95-9ae9-4790-b404-40e8528b19e8', 'base_model_name': 'en-US_Multimedia_LSM', 'customization_id': '4618f695-8653-46f4-b3b5-6d7c85f2f9bc', 'dialect': 'en-US', 'versions': ['en-US_Multimedia_LSM.v2023-11-17'], 'created': '2024-06-19T20:33:44.471Z', 'name': 'CustomPOC_en-US_Multimedia_LSM', 'description': '', 'progress': 0, 'language': 'en-US', 'updated': '2024-06-19T20:37:10.440Z', 'status': 'ready'}\n",
      "{'owner': '33104b95-9ae9-4790-b404-40e8528b19e8', 'base_model_name': 'en-US_Multimedia_LSM', 'customization_id': '4618f695-8653-46f4-b3b5-6d7c85f2f9bc', 'dialect': 'en-US', 'versions': ['en-US_Multimedia_LSM.v2023-11-17'], 'created': '2024-06-19T20:33:44.471Z', 'name': 'CustomPOC_en-US_Multimedia_LSM', 'description': '', 'progress': 0, 'language': 'en-US', 'updated': '2024-06-19T20:37:10.440Z', 'status': 'ready'}\n",
      "{'owner': '33104b95-9ae9-4790-b404-40e8528b19e8', 'base_model_name': 'en-US_Multimedia_LSM', 'customization_id': '4618f695-8653-46f4-b3b5-6d7c85f2f9bc', 'dialect': 'en-US', 'versions': ['en-US_Multimedia_LSM.v2023-11-17'], 'created': '2024-06-19T20:33:44.471Z', 'name': 'CustomPOC_en-US_Multimedia_LSM', 'description': '', 'progress': 0, 'language': 'en-US', 'updated': '2024-06-19T20:37:10.440Z', 'status': 'ready'}\n",
      "{'owner': '33104b95-9ae9-4790-b404-40e8528b19e8', 'base_model_name': 'en-US_Multimedia_LSM', 'customization_id': '4618f695-8653-46f4-b3b5-6d7c85f2f9bc', 'dialect': 'en-US', 'versions': ['en-US_Multimedia_LSM.v2023-11-17'], 'created': '2024-06-19T20:33:44.471Z', 'name': 'CustomPOC_en-US_Multimedia_LSM', 'description': '', 'progress': 0, 'language': 'en-US', 'updated': '2024-06-19T20:37:10.440Z', 'status': 'ready'}\n",
      "{'owner': '33104b95-9ae9-4790-b404-40e8528b19e8', 'base_model_name': 'en-US_Multimedia_LSM', 'customization_id': '4618f695-8653-46f4-b3b5-6d7c85f2f9bc', 'dialect': 'en-US', 'versions': ['en-US_Multimedia_LSM.v2023-11-17'], 'created': '2024-06-19T20:33:44.471Z', 'name': 'CustomPOC_en-US_Multimedia_LSM', 'description': '', 'progress': 0, 'language': 'en-US', 'updated': '2024-06-19T20:37:10.440Z', 'status': 'ready'}\n",
      "{'owner': '33104b95-9ae9-4790-b404-40e8528b19e8', 'base_model_name': 'en-US_Multimedia_LSM', 'customization_id': '4618f695-8653-46f4-b3b5-6d7c85f2f9bc', 'dialect': 'en-US', 'versions': ['en-US_Multimedia_LSM.v2023-11-17'], 'created': '2024-06-19T20:33:44.471Z', 'name': 'CustomPOC_en-US_Multimedia_LSM', 'description': '', 'progress': 0, 'language': 'en-US', 'updated': '2024-06-19T20:37:10.440Z', 'status': 'ready'}\n",
      "{'owner': '33104b95-9ae9-4790-b404-40e8528b19e8', 'base_model_name': 'en-US_Multimedia_LSM', 'customization_id': '4618f695-8653-46f4-b3b5-6d7c85f2f9bc', 'dialect': 'en-US', 'versions': ['en-US_Multimedia_LSM.v2023-11-17'], 'created': '2024-06-19T20:33:44.471Z', 'name': 'CustomPOC_en-US_Multimedia_LSM', 'description': '', 'progress': 0, 'language': 'en-US', 'updated': '2024-06-19T20:37:10.440Z', 'status': 'ready'}\n",
      "{'owner': '33104b95-9ae9-4790-b404-40e8528b19e8', 'base_model_name': 'en-US_Multimedia_LSM', 'customization_id': '4618f695-8653-46f4-b3b5-6d7c85f2f9bc', 'dialect': 'en-US', 'versions': ['en-US_Multimedia_LSM.v2023-11-17'], 'created': '2024-06-19T20:33:44.471Z', 'name': 'CustomPOC_en-US_Multimedia_LSM', 'description': '', 'progress': 0, 'language': 'en-US', 'updated': '2024-06-19T20:37:10.440Z', 'status': 'ready'}\n",
      "{'owner': '33104b95-9ae9-4790-b404-40e8528b19e8', 'base_model_name': 'en-US_Multimedia_LSM', 'customization_id': '4618f695-8653-46f4-b3b5-6d7c85f2f9bc', 'dialect': 'en-US', 'versions': ['en-US_Multimedia_LSM.v2023-11-17'], 'created': '2024-06-19T20:33:44.471Z', 'name': 'CustomPOC_en-US_Multimedia_LSM', 'description': '', 'progress': 0, 'language': 'en-US', 'updated': '2024-06-19T20:37:10.440Z', 'status': 'ready'}\n",
      "{'owner': '33104b95-9ae9-4790-b404-40e8528b19e8', 'base_model_name': 'en-US_Multimedia_LSM', 'customization_id': '4618f695-8653-46f4-b3b5-6d7c85f2f9bc', 'dialect': 'en-US', 'versions': ['en-US_Multimedia_LSM.v2023-11-17'], 'created': '2024-06-19T20:33:44.471Z', 'name': 'CustomPOC_en-US_Multimedia_LSM', 'description': '', 'progress': 0, 'language': 'en-US', 'updated': '2024-06-19T20:37:10.440Z', 'status': 'ready'}\n",
      "{'owner': '33104b95-9ae9-4790-b404-40e8528b19e8', 'base_model_name': 'en-US_Multimedia_LSM', 'customization_id': '4618f695-8653-46f4-b3b5-6d7c85f2f9bc', 'dialect': 'en-US', 'versions': ['en-US_Multimedia_LSM.v2023-11-17'], 'created': '2024-06-19T20:33:44.471Z', 'name': 'CustomPOC_en-US_Multimedia_LSM', 'description': '', 'progress': 0, 'language': 'en-US', 'updated': '2024-06-19T20:37:10.440Z', 'status': 'ready'}\n",
      "{'owner': '33104b95-9ae9-4790-b404-40e8528b19e8', 'base_model_name': 'en-US_Multimedia_LSM', 'customization_id': '4618f695-8653-46f4-b3b5-6d7c85f2f9bc', 'dialect': 'en-US', 'versions': ['en-US_Multimedia_LSM.v2023-11-17'], 'created': '2024-06-19T20:33:44.471Z', 'name': 'CustomPOC_en-US_Multimedia_LSM', 'description': '', 'progress': 0, 'language': 'en-US', 'updated': '2024-06-19T20:37:10.440Z', 'status': 'ready'}\n",
      "{'owner': '33104b95-9ae9-4790-b404-40e8528b19e8', 'base_model_name': 'en-US_Multimedia_LSM', 'customization_id': '4618f695-8653-46f4-b3b5-6d7c85f2f9bc', 'dialect': 'en-US', 'versions': ['en-US_Multimedia_LSM.v2023-11-17'], 'created': '2024-06-19T20:33:44.471Z', 'name': 'CustomPOC_en-US_Multimedia_LSM', 'description': '', 'progress': 0, 'language': 'en-US', 'updated': '2024-06-19T20:37:10.440Z', 'status': 'ready'}\n",
      "{'owner': '33104b95-9ae9-4790-b404-40e8528b19e8', 'base_model_name': 'en-US_Multimedia_LSM', 'customization_id': '4618f695-8653-46f4-b3b5-6d7c85f2f9bc', 'dialect': 'en-US', 'versions': ['en-US_Multimedia_LSM.v2023-11-17'], 'created': '2024-06-19T20:33:44.471Z', 'name': 'CustomPOC_en-US_Multimedia_LSM', 'description': '', 'progress': 0, 'language': 'en-US', 'updated': '2024-06-19T20:37:10.440Z', 'status': 'ready'}\n",
      "{'owner': '33104b95-9ae9-4790-b404-40e8528b19e8', 'base_model_name': 'en-US_Multimedia_LSM', 'customization_id': '4618f695-8653-46f4-b3b5-6d7c85f2f9bc', 'dialect': 'en-US', 'versions': ['en-US_Multimedia_LSM.v2023-11-17'], 'created': '2024-06-19T20:33:44.471Z', 'name': 'CustomPOC_en-US_Multimedia_LSM', 'description': '', 'progress': 0, 'language': 'en-US', 'updated': '2024-06-19T20:37:10.440Z', 'status': 'ready'}\n",
      "{'owner': '33104b95-9ae9-4790-b404-40e8528b19e8', 'base_model_name': 'en-US_Multimedia_LSM', 'customization_id': '4618f695-8653-46f4-b3b5-6d7c85f2f9bc', 'dialect': 'en-US', 'versions': ['en-US_Multimedia_LSM.v2023-11-17'], 'created': '2024-06-19T20:33:44.471Z', 'name': 'CustomPOC_en-US_Multimedia_LSM', 'description': '', 'progress': 0, 'language': 'en-US', 'updated': '2024-06-19T20:37:10.440Z', 'status': 'ready'}\n",
      "{'owner': '33104b95-9ae9-4790-b404-40e8528b19e8', 'base_model_name': 'en-US_Multimedia_LSM', 'customization_id': '4618f695-8653-46f4-b3b5-6d7c85f2f9bc', 'dialect': 'en-US', 'versions': ['en-US_Multimedia_LSM.v2023-11-17'], 'created': '2024-06-19T20:33:44.471Z', 'name': 'CustomPOC_en-US_Multimedia_LSM', 'description': '', 'progress': 0, 'language': 'en-US', 'updated': '2024-06-19T20:37:10.440Z', 'status': 'ready'}\n",
      "{'owner': '33104b95-9ae9-4790-b404-40e8528b19e8', 'base_model_name': 'en-US_Multimedia_LSM', 'customization_id': '4618f695-8653-46f4-b3b5-6d7c85f2f9bc', 'dialect': 'en-US', 'versions': ['en-US_Multimedia_LSM.v2023-11-17'], 'created': '2024-06-19T20:33:44.471Z', 'name': 'CustomPOC_en-US_Multimedia_LSM', 'description': '', 'progress': 0, 'language': 'en-US', 'updated': '2024-06-19T20:37:10.440Z', 'status': 'ready'}\n",
      "{'owner': '33104b95-9ae9-4790-b404-40e8528b19e8', 'base_model_name': 'en-US_Multimedia_LSM', 'customization_id': '4618f695-8653-46f4-b3b5-6d7c85f2f9bc', 'dialect': 'en-US', 'versions': ['en-US_Multimedia_LSM.v2023-11-17'], 'created': '2024-06-19T20:33:44.471Z', 'name': 'CustomPOC_en-US_Multimedia_LSM', 'description': '', 'progress': 0, 'language': 'en-US', 'updated': '2024-06-19T20:37:10.440Z', 'status': 'ready'}\n",
      "{'owner': '33104b95-9ae9-4790-b404-40e8528b19e8', 'base_model_name': 'en-US_Multimedia_LSM', 'customization_id': '4618f695-8653-46f4-b3b5-6d7c85f2f9bc', 'dialect': 'en-US', 'versions': ['en-US_Multimedia_LSM.v2023-11-17'], 'created': '2024-06-19T20:33:44.471Z', 'name': 'CustomPOC_en-US_Multimedia_LSM', 'description': '', 'progress': 0, 'language': 'en-US', 'updated': '2024-06-19T20:37:10.440Z', 'status': 'ready'}\n",
      "{'owner': '33104b95-9ae9-4790-b404-40e8528b19e8', 'base_model_name': 'en-US_Multimedia_LSM', 'customization_id': '4618f695-8653-46f4-b3b5-6d7c85f2f9bc', 'dialect': 'en-US', 'versions': ['en-US_Multimedia_LSM.v2023-11-17'], 'created': '2024-06-19T20:33:44.471Z', 'name': 'CustomPOC_en-US_Multimedia_LSM', 'description': '', 'progress': 0, 'language': 'en-US', 'updated': '2024-06-19T20:37:10.440Z', 'status': 'ready'}\n",
      "{'owner': '33104b95-9ae9-4790-b404-40e8528b19e8', 'base_model_name': 'en-US_Multimedia_LSM', 'customization_id': '4618f695-8653-46f4-b3b5-6d7c85f2f9bc', 'dialect': 'en-US', 'versions': ['en-US_Multimedia_LSM.v2023-11-17'], 'created': '2024-06-19T20:33:44.471Z', 'name': 'CustomPOC_en-US_Multimedia_LSM', 'description': '', 'progress': 0, 'language': 'en-US', 'updated': '2024-06-19T20:37:10.440Z', 'status': 'ready'}\n",
      "{'owner': '33104b95-9ae9-4790-b404-40e8528b19e8', 'base_model_name': 'en-US_Multimedia_LSM', 'customization_id': '4618f695-8653-46f4-b3b5-6d7c85f2f9bc', 'dialect': 'en-US', 'versions': ['en-US_Multimedia_LSM.v2023-11-17'], 'created': '2024-06-19T20:33:44.471Z', 'name': 'CustomPOC_en-US_Multimedia_LSM', 'description': '', 'progress': 0, 'language': 'en-US', 'updated': '2024-06-19T20:37:10.440Z', 'status': 'ready'}\n",
      "{'owner': '33104b95-9ae9-4790-b404-40e8528b19e8', 'base_model_name': 'en-US_Multimedia_LSM', 'customization_id': '4618f695-8653-46f4-b3b5-6d7c85f2f9bc', 'dialect': 'en-US', 'versions': ['en-US_Multimedia_LSM.v2023-11-17'], 'created': '2024-06-19T20:33:44.471Z', 'name': 'CustomPOC_en-US_Multimedia_LSM', 'description': '', 'progress': 0, 'language': 'en-US', 'updated': '2024-06-19T20:37:10.440Z', 'status': 'ready'}\n",
      "{'owner': '33104b95-9ae9-4790-b404-40e8528b19e8', 'base_model_name': 'en-US_Multimedia_LSM', 'customization_id': '4618f695-8653-46f4-b3b5-6d7c85f2f9bc', 'dialect': 'en-US', 'versions': ['en-US_Multimedia_LSM.v2023-11-17'], 'created': '2024-06-19T20:33:44.471Z', 'name': 'CustomPOC_en-US_Multimedia_LSM', 'description': '', 'progress': 0, 'language': 'en-US', 'updated': '2024-06-19T20:37:10.440Z', 'status': 'ready'}\n",
      "{'owner': '33104b95-9ae9-4790-b404-40e8528b19e8', 'base_model_name': 'en-US_Multimedia_LSM', 'customization_id': '4618f695-8653-46f4-b3b5-6d7c85f2f9bc', 'dialect': 'en-US', 'versions': ['en-US_Multimedia_LSM.v2023-11-17'], 'created': '2024-06-19T20:33:44.471Z', 'name': 'CustomPOC_en-US_Multimedia_LSM', 'description': '', 'progress': 0, 'language': 'en-US', 'updated': '2024-06-19T20:37:10.440Z', 'status': 'ready'}\n",
      "{'owner': '33104b95-9ae9-4790-b404-40e8528b19e8', 'base_model_name': 'en-US_Multimedia_LSM', 'customization_id': '4618f695-8653-46f4-b3b5-6d7c85f2f9bc', 'dialect': 'en-US', 'versions': ['en-US_Multimedia_LSM.v2023-11-17'], 'created': '2024-06-19T20:33:44.471Z', 'name': 'CustomPOC_en-US_Multimedia_LSM', 'description': '', 'progress': 0, 'language': 'en-US', 'updated': '2024-06-19T20:37:10.440Z', 'status': 'ready'}\n",
      "{'owner': '33104b95-9ae9-4790-b404-40e8528b19e8', 'base_model_name': 'en-US_Multimedia_LSM', 'customization_id': '4618f695-8653-46f4-b3b5-6d7c85f2f9bc', 'dialect': 'en-US', 'versions': ['en-US_Multimedia_LSM.v2023-11-17'], 'created': '2024-06-19T20:33:44.471Z', 'name': 'CustomPOC_en-US_Multimedia_LSM', 'description': '', 'progress': 0, 'language': 'en-US', 'updated': '2024-06-19T20:37:10.440Z', 'status': 'ready'}\n",
      "{'owner': '33104b95-9ae9-4790-b404-40e8528b19e8', 'base_model_name': 'en-US_Multimedia_LSM', 'customization_id': '4618f695-8653-46f4-b3b5-6d7c85f2f9bc', 'dialect': 'en-US', 'versions': ['en-US_Multimedia_LSM.v2023-11-17'], 'created': '2024-06-19T20:33:44.471Z', 'name': 'CustomPOC_en-US_Multimedia_LSM', 'description': '', 'progress': 0, 'language': 'en-US', 'updated': '2024-06-19T20:37:10.440Z', 'status': 'ready'}\n",
      "{'owner': '33104b95-9ae9-4790-b404-40e8528b19e8', 'base_model_name': 'en-US_Multimedia_LSM', 'customization_id': '4618f695-8653-46f4-b3b5-6d7c85f2f9bc', 'dialect': 'en-US', 'versions': ['en-US_Multimedia_LSM.v2023-11-17'], 'created': '2024-06-19T20:33:44.471Z', 'name': 'CustomPOC_en-US_Multimedia_LSM', 'description': '', 'progress': 0, 'language': 'en-US', 'updated': '2024-06-19T20:37:10.440Z', 'status': 'ready'}\n",
      "{'owner': '33104b95-9ae9-4790-b404-40e8528b19e8', 'base_model_name': 'en-US_Multimedia_LSM', 'customization_id': '4618f695-8653-46f4-b3b5-6d7c85f2f9bc', 'dialect': 'en-US', 'versions': ['en-US_Multimedia_LSM.v2023-11-17'], 'created': '2024-06-19T20:33:44.471Z', 'name': 'CustomPOC_en-US_Multimedia_LSM', 'description': '', 'progress': 0, 'language': 'en-US', 'updated': '2024-06-19T20:37:10.440Z', 'status': 'ready'}\n",
      "Training\n",
      "Wait Training\n",
      "Wait Training\n",
      "Wait Training\n",
      "Wait Training\n",
      "Wait Training\n",
      "Wait Training\n",
      "Wait Training\n",
      "Wait Training\n",
      "Wait Training\n",
      "Wait Training\n",
      "Wait Training\n",
      "Wait Training\n",
      "Wait Training\n",
      "Wait Training\n",
      "Wait Training\n",
      "Wait Training\n"
     ]
    },
    {
     "data": {
      "text/plain": [
       "True"
      ]
     },
     "execution_count": 12,
     "metadata": {},
     "output_type": "execute_result"
    }
   ],
   "source": [
    "trainCorpus(lm_id_MM, corpus_name, corpus_file, speech_to_text)"
   ]
  },
  {
   "cell_type": "markdown",
   "metadata": {},
   "source": [
    "## Quality Test\n",
    "\n",
    "This section will focus on testing which model will perform better. We will need at least 1 sample with a baseline transcriptio to compare to. You can use shorter audios than the original meeting sessions. Ideally you would have a big enough test set to do bootstrap the accuracy of the model. However, since this is a POC one or a couple should sufice.\n",
    "\n",
    "We will be using the Word Error Rate (WER) to measure the accuracy of the model. This rate considers the substitutions, deletions, and insertions to calculate the accuracy.\n",
    "\n",
    "> [How to calculate WER](https://medium.com/@johnidouglasmarangon/how-to-calculate-the-word-error-rate-in-python-ce0751a46052)"
   ]
  },
  {
   "cell_type": "code",
   "execution_count": 13,
   "metadata": {},
   "outputs": [],
   "source": [
    "def transcribe(lm_id, base_model, audio_name, speech_to_text):\n",
    "    with open(audio_name, 'rb') as audio_file:\n",
    "        speech_recognition_results = speech_to_text.recognize(\n",
    "            audio=audio_file,\n",
    "            content_type='audio/mp3', # Change if needed\n",
    "            model= base_model,\n",
    "            smart_formatting=True,\n",
    "            language_customization_id=lm_id\n",
    "        ).get_result()\n",
    "    transcript = \"\"\n",
    "    for result in speech_recognition_results['results']:\n",
    "        for alternative in result['alternatives']:\n",
    "            transcript += alternative['transcript']\n",
    "    return transcript"
   ]
  },
  {
   "cell_type": "markdown",
   "metadata": {},
   "source": [
    "Change the audio name and reference file to the baseline transcription you will be using."
   ]
  },
  {
   "cell_type": "code",
   "execution_count": 14,
   "metadata": {},
   "outputs": [],
   "source": [
    "audio_name = 'audio.mp3'\n",
    "reference_file = 'corpus.txt'\n",
    "\n",
    "reference = ''\n",
    "with open(reference_file) as f:\n",
    "    # Read the contents of the file into a variable\n",
    "    reference = f.read()\n",
    "\n",
    "transforms = jiwer.Compose(\n",
    "    [\n",
    "        jiwer.ExpandCommonEnglishContractions(),\n",
    "        jiwer.RemoveEmptyStrings(),\n",
    "        jiwer.ToLowerCase(),\n",
    "        jiwer.RemoveMultipleSpaces(),\n",
    "        jiwer.Strip(),\n",
    "        jiwer.RemovePunctuation(),\n",
    "        jiwer.ReduceToListOfListOfWords(),\n",
    "    ]\n",
    ")"
   ]
  },
  {
   "cell_type": "code",
   "execution_count": 15,
   "metadata": {},
   "outputs": [],
   "source": [
    "base_model_tel = 'en-US_Telephony_LSM'\n",
    "#lm_id_tel = \"365c3238-a016-46aa-8b61-85a4c827da94\"\n",
    "\n",
    "base_model_MM = 'en-US_Multimedia_LSM'\n",
    "#lm_id_MM = \"809f2dfa-c826-4f89-a905-e37c62ed5ccc\""
   ]
  },
  {
   "cell_type": "markdown",
   "metadata": {},
   "source": [
    "Generating the telephony transcription."
   ]
  },
  {
   "cell_type": "code",
   "execution_count": 16,
   "metadata": {},
   "outputs": [],
   "source": [
    "# Telephone model transcription\n",
    "\n",
    "transcription_tel = transcribe(lm_id_tel, base_model_tel, audio_name,speech_to_text)"
   ]
  },
  {
   "cell_type": "code",
   "execution_count": 17,
   "metadata": {},
   "outputs": [],
   "source": [
    "wer_tel = jiwer.wer(\n",
    "                reference,\n",
    "                transcription_tel,\n",
    "                truth_transform=transforms,\n",
    "                hypothesis_transform=transforms,\n",
    "            )"
   ]
  },
  {
   "cell_type": "markdown",
   "metadata": {},
   "source": [
    "Generating the multimedia transcription."
   ]
  },
  {
   "cell_type": "code",
   "execution_count": 18,
   "metadata": {},
   "outputs": [],
   "source": [
    "# Multimedia model transcription\n",
    "\n",
    "transcription_MM = transcribe(lm_id_MM, base_model_MM, audio_name, speech_to_text)"
   ]
  },
  {
   "cell_type": "code",
   "execution_count": 19,
   "metadata": {},
   "outputs": [],
   "source": [
    "wer_mult = jiwer.wer(\n",
    "                reference,\n",
    "                transcription_MM,\n",
    "                truth_transform=transforms,\n",
    "                hypothesis_transform=transforms,\n",
    "            )"
   ]
  },
  {
   "cell_type": "markdown",
   "metadata": {},
   "source": [
    "Remember that WER is an error rate. A lower value indicates better accuracy, while a higher value indicate worse accuracy."
   ]
  },
  {
   "cell_type": "code",
   "execution_count": 20,
   "metadata": {},
   "outputs": [
    {
     "name": "stdout",
     "output_type": "stream",
     "text": [
      "Word Error Rate (WER) Telephony: 12.29% (or 87.71% Accuracy)\n",
      "Word Error Rate (WER) Multimedia: 19.61% (or 80.39% Accuracy)\n"
     ]
    }
   ],
   "source": [
    "print(f\"Word Error Rate (WER) Telephony: {wer_tel*100:.2f}% (or {(1-wer_tel)*100:.2f}% Accuracy)\")\n",
    "print(f\"Word Error Rate (WER) Multimedia: {wer_mult*100:.2f}% (or {(1-wer_mult)*100:.2f}% Accuracy)\")"
   ]
  },
  {
   "cell_type": "code",
   "execution_count": 21,
   "metadata": {},
   "outputs": [
    {
     "name": "stdout",
     "output_type": "stream",
     "text": [
      "okay okay we're one steve there i think you're muted yes so it's yeah my bad was alright so be sure history analysis of the nba final project let's start let's go with the abstracts let's see okay is objective still temporal bison station yeah still there said the same that's that's okay ok perfect and what the keywords so keywords we have only these or i think i think we should add more specific isolations into the keyword so let's add dendrogram animated bubbles animated lines bars and lines as well ok some skirts let's go with that and 4 so now this morning to the introduction tell me a little bit about it case so let's school paragraph by paragraph i think this first one it's okay i think these are the correct references that we are using the status correct ok i think i think that that is good 3.revolution okay yeah i'll double check that but i think that that is fine as well this do pre okay i think i think this second one is also okay is jump into this last one okay there is something that we should be able to change here right so i think this wording is is a little bit off where it says that the truth is that there is that it is very hard to compare players who played in different areas and different positions i think we can do a bit better here so i will change these last paragraph and these wording to say something around you know comparison between errors require a deeper analytics into the change of rules and players positions okay nothing think that makes more right yeah okay let's let's go with that wording making sure that this well now it looks more like a comparison between errors require a deeper analytics into the change of rules and players yep so good ok i think i think that's introduction alright now this the next is ok background okay background ok this first paragraph from looks ok to me yeah this hasn't change second paragraph and traditional positions so the well known have never been strictly defined nor enforced this is true although not everyone might know the traditional positions so here let's add the 5 traditional positions steve so that will be center point car shooting guard small forward and forward yeah that will help a lot and where should we add those i think you just after it says yeah and background second part your first after it says the well known well known positions well known yeah you can maybe at the parentheses or something that you can figure it out ok perfect so we will add those 5 traditional positions there so now the next part will be i yes approach okay appro section this small section yeah this is this is ok this is still the same perfect and now datasets yeah the said we didn't have a change here a big change we are not using anymore the bask capable reference data set so what we should do to steve is in all the document in known in all the the the paper we should add change sorry we should change weight says back basketball reference to espn analytics ok alright so that this go with that change make sure to put the espn instead yeah yeah this this golder other than that let me let me scroll down this first table i think there's a change year tube since we change data sets there is no offensive rebounds or defensive rate balance so we should delete these 2 and add one that says just total we bounce okay perfect let's do that addition to that section yeah so that table one table 2 yeah this one is still the same thing yeah there is no change there ok of it right now how about a section 3.3 but 2 i think it's out yeah you're tell me a little bit about that one ok 3.2 first ok 3.evolution per position ok in this section i think i would add a paragraph ok let me let me see world war was that ok this chart is ok these wording is is fine his wife matters this cluster names are still relevant here here we are saying that we're gonna use these 2 algorithms sarimax and aic and we should spend maybe a paragraph explaining what these 2 algorithms are okay to add a paragraph here at the end of the section and explaining what sarimax and aic is perfect we'll make that definition to the paragraph so it helps out perfect let some move now to section now section 3 sure yeah i'll pay so is the lebron versus michael inlet analysis day here we are good with the this says mean i think there is something maybe we can change here steve and daddy's explain why the first the first 15 seasons here at the end of the first paragraph we could add a sentence that says something around that we only choose this first 15 season because that's the amount of season that michael jordan played ok or right so i didn't the first bargain section treatment trail explain that we use 15 season because that is 1 of season that michael so yeah that is correct okay we saying such results perfect ok yeah section 4 and 41 ok section 4.1 i think this is fine just a link to the animation change their now section 4.2 is there all the plan this is the michael jordan visualization again we have the same to section i think i think i'm seeing here a lot of per mentions ok yeah so let's there's modified days so here what it says PER let's change it to player efficiency rating and then in parentheses per ok all the table make that change some good perfect yeah and so we go back we ok we go down offense box plus minus the correct overall box plus minus that's correct so here i think this is a typo error it says BMP it should be BPM box plus minus and and we should also add the full word like box plus minus and then parenthesis BPM okay or i will make the proper updates to that and then finally conclusions okay i think this is i think this is all fine and there is now this conclusion are still the same yeah no changes to the conclusion perfect sounds good okay thank you for your time i mean i would nothing and let me know if there any extra pics that \n"
     ]
    }
   ],
   "source": [
    "print(transcription_MM)"
   ]
  },
  {
   "cell_type": "code",
   "execution_count": 22,
   "metadata": {},
   "outputs": [
    {
     "name": "stdout",
     "output_type": "stream",
     "text": [
      "ok okay where one steve are you there i think you're muted yes it's yeah my bad was all right so visual history analysis of the nba final project let's start let's go with the abstracts let's see ok is the objective still temporal visualization yeah yeah it's still still the same that's that's okay ok perfect and what all the keywords so keywords we have only these 4 i think i think we should add more specific visualizations into the keyword so let's add dendrogram animated bubbles animated lines bars and lines as well ok sounds good let's go with that and or so now let's move on to the introduction tell me a little bit about it okay so let's go paragraph by paragraph i think this first one it's okay you think these are the correct references that we are using this date is correct ok i think i think that that is good 3.revolution okay yeah i'll double check that but i think that that is fine as well this dupree okay i think i think this second one it's also ok let's jump into this last one uh okay there is something that we should be able to change here right so i think this wording is is a little bit off where it says that the truth is that there is that it is very hard to compare players who played in different areas and different positions i think we can do a little bit better here so i will change this last paragraph and these wording to say something around you know comparison between errors require a deeper analytics into the change of rules and players positions ok i think i think that makes more sense all right yeah ok let's let's go with that wording making sure that this well now it looks more like a comparison between errors require a deeper analytics into the change of rules and players yeah sounds good okay i think i think that's introduction yeah alright now this the next is ok background ok background ok this first paragraph looks ok to me yeah this hasn't changed second paragraph traditional positions although well known have never been strictly defined nor enforced this is true although not everyone might know the traditional positions so here let's add the 5 traditional positions steve so that will be center point guard shooting guard small forward and forward yeah that that will help a lot and where should we add those i think you just after it says yeah and background second paragraph just after it says m the well known well known positions well known yeah you can maybe at the parentheses or something that you can figure it out okay perfect so we will add those 5 traditional positions there sounds good and now the next part will be yes approach okay the approach section yeah this small section yeah this is this is ok this is still the same perfect and now datasets yeah datasets we did have a change here a big change we are not using anymore the basketball reference data set so what we should do to steve is in all the document in all in all the the the paper we should change sorry we should change where it says back basketball reference to espn analytics ok all right so good let's go with that change make sure to put the espn analytics instead yeah yeah let's let's go with that other than that let me let me scroll down this first table i think there's a change your tube since we change data sets there is no offensive rebounds or defensive rebounds so we should delete these 2 and add one that says just total rebounds ok perfect let's do that addition to that section yeah so that table one table 2 yeah this one is still the same thing yeah there is no change there ok it all right now how about a section trade point 3 table 2 i think it's 30 yeah you're right tell me a little bit about that one okay 3.2 first ok 3.evolution per position ok in this section i think i would add a paragraph ok let me let me see where was that way this chart is okay this wording is is fine is what matters this cluster names are still relevant here here we are saying that we're going to use these 2 algorithms sarimax and aic and we should spend maybe a paragraph explaining what these 2 algorithms are ok so add a paragraph here at the end of the section and explaining what sarimax and aic is ok perfect we'll make that definition to the paragraph so it helps out perfect and let's move now to section now section 3 quinter sure yeah okay so is the lebron versus michael and analysis okay here we are good with the this assessment and i think there is something maybe we can change here steve and that is explain why the first the first 15 seasons here at the end of the first paragraph we could add a sentence that says something around that we only choose this first 15 seasons because that's the amount of seasons that michael jordan played ok all right ok so i didn't the first paragraph in section treatment we will explain that we use have 15 season because that is ammount of season that michael played ok perfect sounds good yeah that is correct okay we saw employing section results perfect ok yeah section 4 and 41 ok section 4.1 i think this is fine this is just a link to the animation o change there now section 4.2 years all the brands is though michael jordan these aviations again we have the same to be solicitations i think i think i'm seeing here a lot of per mentions ok yeah so let's let's modify this so here where it says PER let's change it to player efficiency rating and then in parentheses per ok ok we'll make that change sound good perfect yeah and so we go back we ok we go down offensive box plus minus correct overall box plus minus that is correct so here i think this is an type of error it says BMP it should be bpm box plus minus and and we should also add the full word like box plus minus and then parenthesis BPM okay alright we will make the proper updates to that and then finally conclusions ohh okay i think this is i think this is all fine and there is no this conclusion are still the same yeah no changes to the conclusion perfect sounds good okay steve thank you for your time i mean i wouldn't thank you and let me know if there are any extra optics okay thank you \n"
     ]
    }
   ],
   "source": [
    "print(transcription_tel)"
   ]
  },
  {
   "cell_type": "markdown",
   "metadata": {},
   "source": [
    "## Clean Up\n",
    "\n",
    "USE **ONLY** AFTER THE POC IS DONE."
   ]
  },
  {
   "cell_type": "code",
   "execution_count": null,
   "metadata": {},
   "outputs": [],
   "source": [
    "# If needed, uncomment and fill with your ids.\n",
    "#lm_id_tel = \"{telephony_id}\"\n",
    "#lm_id_MM = \"{multimedia_id}\""
   ]
  },
  {
   "cell_type": "code",
   "execution_count": 36,
   "metadata": {},
   "outputs": [
    {
     "data": {
      "text/plain": [
       "<ibm_cloud_sdk_core.detailed_response.DetailedResponse at 0x117d201f0>"
      ]
     },
     "execution_count": 36,
     "metadata": {},
     "output_type": "execute_result"
    }
   ],
   "source": [
    "# Delete Corpus\n",
    "speech_to_text.delete_corpus(\n",
    "    lm_id_tel,\n",
    "    corpus_name\n",
    ")"
   ]
  },
  {
   "cell_type": "code",
   "execution_count": 40,
   "metadata": {},
   "outputs": [
    {
     "data": {
      "text/plain": [
       "<ibm_cloud_sdk_core.detailed_response.DetailedResponse at 0x117e2b130>"
      ]
     },
     "execution_count": 40,
     "metadata": {},
     "output_type": "execute_result"
    }
   ],
   "source": [
    "# Delete Language Model\n",
    "speech_to_text.delete_language_model(lm_id_tel)"
   ]
  },
  {
   "cell_type": "code",
   "execution_count": null,
   "metadata": {},
   "outputs": [],
   "source": [
    "# Delete Corpus\n",
    "speech_to_text.delete_corpus(\n",
    "    lm_id_MM,\n",
    "    corpus_name\n",
    ")"
   ]
  },
  {
   "cell_type": "code",
   "execution_count": null,
   "metadata": {},
   "outputs": [],
   "source": [
    "# Delete Language Model\n",
    "speech_to_text.delete_language_model(lm_id_MM)"
   ]
  }
 ],
 "metadata": {
  "kernelspec": {
   "display_name": "Python 3",
   "language": "python",
   "name": "python3"
  },
  "language_info": {
   "codemirror_mode": {
    "name": "ipython",
    "version": 3
   },
   "file_extension": ".py",
   "mimetype": "text/x-python",
   "name": "python",
   "nbconvert_exporter": "python",
   "pygments_lexer": "ipython3",
   "version": "3.10.4"
  }
 },
 "nbformat": 4,
 "nbformat_minor": 2
}
